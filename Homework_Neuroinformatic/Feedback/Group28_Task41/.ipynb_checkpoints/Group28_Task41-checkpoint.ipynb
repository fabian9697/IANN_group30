{
 "cells": [
  {
   "cell_type": "markdown",
   "metadata": {},
   "source": [
    "# Exercise B-Splines\n",
    "\n",
    "This week's exercise is about a variation of linear regression and model selection. You may define auxiliary functions if you think it improves the clarity of your code."
   ]
  },
  {
   "cell_type": "code",
   "execution_count": 5,
   "metadata": {
    "jupyter": {
     "outputs_hidden": false
    }
   },
   "outputs": [],
   "source": [
    "# execute this cell to import all the numpy and matplotlib functions you need.\n",
    "import numpy as np\n",
    "import matplotlib.pyplot as plt\n",
    "\n",
    "#added by group 28\n",
    "import csv\n",
    "from scipy import interpolate\n"
   ]
  },
  {
   "cell_type": "markdown",
   "metadata": {},
   "source": [
    "1. B-splines\n",
    "---\n",
    "Last week you implemented a linear regression using monomial basis functions. Depending on the underlying function, polynomial basis functions are not always the best choice. In the lecture B-splines were introduced, which are local and picewise polynomial functions. Piecewise polynomial simple means that it is a combination of polynomials. The following figure shows the B-spline $B_{0,3}$ with so called knots of (-3,-2,-1,0).\n",
    "\n",
    "![b-spline](b-spline.png)\n",
    "\n",
    "Knots or break-points are the values on the X-axis where one polynomial ends and another starts. In the figure you can see that a new polynomial starts for example at knot -3 and goes until knot -2. B-splines are also local basis function, which means that they are only non-zero on a finite intervall. The B-spline in the figure is for values smaller than -3 and bigger than 0 equal to 0. This property makes them especially usefull for certain tasks of linear regression, since you can place them exacly where you want them to have an influence. B-splines are defined recursively:\n",
    "\n",
    "$$ B_{k,1}(x) = \\left\\{ \\begin{matrix} 1 & \\mathrm{if} \\quad t_k \\leq x < t_{k+1} \\\\ 0 & \\mathrm{else} \\end{matrix} \\right.$$\n",
    "\n",
    "$$B_{k,d}(x) = \\frac{x - t_k}{t_{k+d-1} - t_k} B_{k,d-1}(x) + \\frac{t_{k+d} - x}{t_{k+d} - t_{k+1}} B_{k+1,d-1}(x)$$\n",
    "\n",
    "$t_k$ referes to the knot at index $k$, $d$ is the degree of the polynomial used to construct the spline. For information see script page 55.\n",
    "\n",
    "\n",
    "The function `get_bspline` in the following cell, is a so called function factory (a function that returns another function). You can see that `bspline` is defined inside `get_bspline`. The last line of the outer function returns a vectorized version of the inner function, i.e. when called with an array-like value for x, the bspline function is applied elementwise to every cell. Sample usage:\n",
    "\n",
    "```\n",
    "bspline = get_bspline(knots=[0,1,2,3,4])\n",
    "x = linspace(0,4,10)\n",
    "y = bspline(x, k=0, d=3)\n",
    "```\n",
    "1. Plot all B-splines of degree three, for eleven equidistant knots between zero and ten (inclusive).\n",
    "2. Given a total number of $m$ knots and an arbitrary positive integer for $d$, what is the maximal value of $k$ ? *(Note that the first knot index is 0)*\n",
    "3. Try out different degrees or strange knot placements."
   ]
  },
  {
   "cell_type": "code",
   "execution_count": 3,
   "metadata": {
    "jupyter": {
     "outputs_hidden": false
    }
   },
   "outputs": [],
   "source": [
    "def get_bspline(knots):\n",
    "    \"\"\" Takes an array-like parameter and returns a function implementing a B-spline. \"\"\"\n",
    "    \n",
    "    def bspline(x, k, d): \n",
    "        \n",
    "        if d==1: # recursion stop\n",
    "            if knots[k] <= x < knots[k+1]:\n",
    "               \n",
    "                y = 1\n",
    "            else:\n",
    "               \n",
    "                y = 0\n",
    "        else:\n",
    "            factor1 = (x-knots[k])/(knots[k+d-1]-knots[k])\n",
    "           \n",
    "            factor2 = (knots[k+d]-x)/(knots[k+d]-knots[k+1])\n",
    "            \n",
    "            b1 = bspline(x, k, d-1)   # recursion!\n",
    "           \n",
    "            b2 = bspline(x, k+1, d-1) # recursion!\n",
    "            \n",
    "            y = factor1*b1 + factor2*b2\n",
    "        return y\n",
    "\n",
    "    return np.vectorize(bspline, excluded=['k','d'])"
   ]
  },
  {
   "cell_type": "code",
   "execution_count": 32,
   "metadata": {
    "jupyter": {
     "outputs_hidden": false
    }
   },
   "outputs": [
    {
     "data": {
      "image/png": "[encoded data removed]",
      "text/plain": [
       "<Figure size 432x288 with 1 Axes>"
      ]
     },
     "metadata": {
      "needs_background": "light"
     },
     "output_type": "display_data"
    },
    {
     "name": "stdout",
     "output_type": "stream",
     "text": [
      "9\n"
     ]
    },
    {
     "data": {
      "image/png": "[encoded data removed]",
      "text/plain": [
       "<Figure size 432x288 with 1 Axes>"
      ]
     },
     "metadata": {
      "needs_background": "light"
     },
     "output_type": "display_data"
    }
   ],
   "source": [
    "# Your Code here.\n",
    "#1\n",
    "knots = np.linspace(0,10,11)\n",
    "\n",
    "xx = np.linspace(0,10,11)\n",
    "bspline = get_bspline(knots)\n",
    "y = [bspline(x, 0 ,3) for x in xx]\n",
    "\n",
    "\n",
    "plt.figure()\n",
    "plt.plot(xx,y)\n",
    "plt.title('B-splines')\n",
    "plt.show()\n",
    "\n",
    "#2\n",
    "#max(k) = len(knots)-d-1\n",
    "\n",
    "#3\n",
    "knots = [0,0.01,0.02,0.03,9,9.5,9.9,9.99,9.999]\n",
    "print(len(knots))\n",
    "\n",
    "xx = np.linspace(0,10,11)\n",
    "bspline = get_bspline(knots)\n",
    "y = [bspline(x, 3 ,5) for x in xx]\n",
    "\n",
    "plt.figure()\n",
    "plt.plot(xx,y)\n",
    "plt.title('B-splines with strange degree/knots')\n",
    "plt.show()"
   ]
  },
  {
   "cell_type": "markdown",
   "metadata": {},
   "source": [
    "2. Cubic B-spline linear regression\n",
    "---\n",
    "\n",
    "Implement a function that performs a linear regression using $(B_{0,d}, \\dots, B_{m-d-1,d})$ as basis functions. Use `pinv` for calculating the pseudoinverse.\n",
    "\n"
   ]
  },
  {
   "cell_type": "code",
   "execution_count": 6,
   "metadata": {
    "jupyter": {
     "outputs_hidden": false
    }
   },
   "outputs": [],
   "source": [
    "def bspline_regression(X, Y, knots, deg):\n",
    "    \"\"\"\n",
    "    Performes a B-spline regression.\n",
    "    \n",
    "    Parameters\n",
    "    ----------\n",
    "    X : 1-D ndarray\n",
    "        samples of the independent variable\n",
    "    Y : 1-D ndarray\n",
    "        samples of the dependent variable\n",
    "    knots : 1-D array-like\n",
    "        knots of the splines\n",
    "    deg : integer\n",
    "        order of splines\n",
    "    \n",
    "    Returns\n",
    "    -------\n",
    "    w : ndarray\n",
    "        egression weights\n",
    "    \"\"\"\n",
    "\n",
    "    #-- enter code here --#\n",
    "    #print(X)\n",
    "    #print(Y)\n",
    "    #print(knots)\n",
    "    #print(deg)\n",
    "    \n",
    "    #bspline = get_bspline(knots)\n",
    "    #print(bspline)\n",
    "    #plt.scatter(X,Y,marker = '.')\n",
    "    \n",
    "    \n",
    "    \n",
    "    \n",
    "    \n",
    "    return w\n"
   ]
  },
  {
   "cell_type": "markdown",
   "metadata": {},
   "source": [
    "3. Fit, choose, plot \n",
    "-----\n",
    "Load the data from *BSplinesCrossValidationHyperparameters_data.csv*. You will find a 2x200 array, the first column of which is the indepent, the second column the dependent variable. Look at the data and your plot from above to find a good knot array for a B-spline regression (at this point it is not important to find the best model, we do that later). Fit a model with the knots of your choice to the data and plot the resulting graph together with a scatter plot of the data. Briefly describe why you chose those specific knots."
   ]
  },
  {
   "cell_type": "code",
   "execution_count": 33,
   "metadata": {
    "jupyter": {
     "outputs_hidden": false
    }
   },
   "outputs": [
    {
     "ename": "ValueError",
     "evalue": "Error on input data",
     "output_type": "error",
     "traceback": [
      "\u001b[0;31m---------------------------------------------------------------------------\u001b[0m",
      "\u001b[0;31mValueError\u001b[0m                                Traceback (most recent call last)",
      "\u001b[0;32m<ipython-input-33-b8daeddbf6bb>\u001b[0m in \u001b[0;36m<module>\u001b[0;34m\u001b[0m\n\u001b[1;32m     12\u001b[0m \u001b[0mknots\u001b[0m \u001b[0;34m=\u001b[0m \u001b[0mnp\u001b[0m\u001b[0;34m.\u001b[0m\u001b[0mlinspace\u001b[0m\u001b[0;34m(\u001b[0m\u001b[0;36m0\u001b[0m\u001b[0;34m,\u001b[0m\u001b[0;36m1\u001b[0m\u001b[0;34m,\u001b[0m\u001b[0;36m10\u001b[0m\u001b[0;34m)\u001b[0m\u001b[0;34m\u001b[0m\u001b[0;34m\u001b[0m\u001b[0m\n\u001b[1;32m     13\u001b[0m \u001b[0;34m\u001b[0m\u001b[0m\n\u001b[0;32m---> 14\u001b[0;31m \u001b[0mbspline_regression\u001b[0m\u001b[0;34m(\u001b[0m\u001b[0mX\u001b[0m\u001b[0;34m,\u001b[0m\u001b[0mY\u001b[0m\u001b[0;34m,\u001b[0m\u001b[0mknots\u001b[0m\u001b[0;34m,\u001b[0m\u001b[0;36m3\u001b[0m\u001b[0;34m)\u001b[0m\u001b[0;34m\u001b[0m\u001b[0;34m\u001b[0m\u001b[0m\n\u001b[0m",
      "\u001b[0;32m<ipython-input-6-43872354af8f>\u001b[0m in \u001b[0;36mbspline_regression\u001b[0;34m(X, Y, knots, deg)\u001b[0m\n\u001b[1;32m     30\u001b[0m     \u001b[0;31m#plt.scatter(X,Y,marker = '.')\u001b[0m\u001b[0;34m\u001b[0m\u001b[0;34m\u001b[0m\u001b[0;34m\u001b[0m\u001b[0m\n\u001b[1;32m     31\u001b[0m \u001b[0;34m\u001b[0m\u001b[0m\n\u001b[0;32m---> 32\u001b[0;31m     \u001b[0mtck\u001b[0m \u001b[0;34m=\u001b[0m \u001b[0minterpolate\u001b[0m\u001b[0;34m.\u001b[0m\u001b[0msplrep\u001b[0m\u001b[0;34m(\u001b[0m\u001b[0mX\u001b[0m\u001b[0;34m,\u001b[0m\u001b[0mY\u001b[0m\u001b[0;34m,\u001b[0m\u001b[0ms\u001b[0m \u001b[0;34m=\u001b[0m \u001b[0;36m0\u001b[0m\u001b[0;34m)\u001b[0m\u001b[0;34m\u001b[0m\u001b[0;34m\u001b[0m\u001b[0m\n\u001b[0m\u001b[1;32m     33\u001b[0m     \u001b[0mynew\u001b[0m \u001b[0;34m=\u001b[0m \u001b[0minterpolate\u001b[0m\u001b[0;34m.\u001b[0m\u001b[0msplev\u001b[0m\u001b[0;34m(\u001b[0m\u001b[0mX\u001b[0m\u001b[0;34m,\u001b[0m\u001b[0mtck\u001b[0m\u001b[0;34m,\u001b[0m\u001b[0mder\u001b[0m \u001b[0;34m=\u001b[0m \u001b[0;36m0\u001b[0m\u001b[0;34m)\u001b[0m\u001b[0;34m\u001b[0m\u001b[0;34m\u001b[0m\u001b[0m\n\u001b[1;32m     34\u001b[0m \u001b[0;34m\u001b[0m\u001b[0m\n",
      "\u001b[0;32m~/.local/lib/python3.6/site-packages/scipy/interpolate/fitpack.py\u001b[0m in \u001b[0;36msplrep\u001b[0;34m(x, y, w, xb, xe, k, task, s, t, full_output, per, quiet)\u001b[0m\n\u001b[1;32m    286\u001b[0m \u001b[0;34m\u001b[0m\u001b[0m\n\u001b[1;32m    287\u001b[0m     \"\"\"\n\u001b[0;32m--> 288\u001b[0;31m     \u001b[0mres\u001b[0m \u001b[0;34m=\u001b[0m \u001b[0m_impl\u001b[0m\u001b[0;34m.\u001b[0m\u001b[0msplrep\u001b[0m\u001b[0;34m(\u001b[0m\u001b[0mx\u001b[0m\u001b[0;34m,\u001b[0m \u001b[0my\u001b[0m\u001b[0;34m,\u001b[0m \u001b[0mw\u001b[0m\u001b[0;34m,\u001b[0m \u001b[0mxb\u001b[0m\u001b[0;34m,\u001b[0m \u001b[0mxe\u001b[0m\u001b[0;34m,\u001b[0m \u001b[0mk\u001b[0m\u001b[0;34m,\u001b[0m \u001b[0mtask\u001b[0m\u001b[0;34m,\u001b[0m \u001b[0ms\u001b[0m\u001b[0;34m,\u001b[0m \u001b[0mt\u001b[0m\u001b[0;34m,\u001b[0m \u001b[0mfull_output\u001b[0m\u001b[0;34m,\u001b[0m \u001b[0mper\u001b[0m\u001b[0;34m,\u001b[0m \u001b[0mquiet\u001b[0m\u001b[0;34m)\u001b[0m\u001b[0;34m\u001b[0m\u001b[0;34m\u001b[0m\u001b[0m\n\u001b[0m\u001b[1;32m    289\u001b[0m     \u001b[0;32mreturn\u001b[0m \u001b[0mres\u001b[0m\u001b[0;34m\u001b[0m\u001b[0;34m\u001b[0m\u001b[0m\n\u001b[1;32m    290\u001b[0m \u001b[0;34m\u001b[0m\u001b[0m\n",
      "\u001b[0;32m~/.local/lib/python3.6/site-packages/scipy/interpolate/_fitpack_impl.py\u001b[0m in \u001b[0;36msplrep\u001b[0;34m(x, y, w, xb, xe, k, task, s, t, full_output, per, quiet)\u001b[0m\n\u001b[1;32m    514\u001b[0m         \u001b[0;32melse\u001b[0m\u001b[0;34m:\u001b[0m\u001b[0;34m\u001b[0m\u001b[0;34m\u001b[0m\u001b[0m\n\u001b[1;32m    515\u001b[0m             \u001b[0;32mtry\u001b[0m\u001b[0;34m:\u001b[0m\u001b[0;34m\u001b[0m\u001b[0;34m\u001b[0m\u001b[0m\n\u001b[0;32m--> 516\u001b[0;31m                 \u001b[0;32mraise\u001b[0m \u001b[0m_iermess\u001b[0m\u001b[0;34m[\u001b[0m\u001b[0mier\u001b[0m\u001b[0;34m]\u001b[0m\u001b[0;34m[\u001b[0m\u001b[0;36m1\u001b[0m\u001b[0;34m]\u001b[0m\u001b[0;34m(\u001b[0m\u001b[0m_iermess\u001b[0m\u001b[0;34m[\u001b[0m\u001b[0mier\u001b[0m\u001b[0;34m]\u001b[0m\u001b[0;34m[\u001b[0m\u001b[0;36m0\u001b[0m\u001b[0;34m]\u001b[0m\u001b[0;34m)\u001b[0m\u001b[0;34m\u001b[0m\u001b[0;34m\u001b[0m\u001b[0m\n\u001b[0m\u001b[1;32m    517\u001b[0m             \u001b[0;32mexcept\u001b[0m \u001b[0mKeyError\u001b[0m\u001b[0;34m:\u001b[0m\u001b[0;34m\u001b[0m\u001b[0;34m\u001b[0m\u001b[0m\n\u001b[1;32m    518\u001b[0m                 \u001b[0;32mraise\u001b[0m \u001b[0m_iermess\u001b[0m\u001b[0;34m[\u001b[0m\u001b[0;34m'unknown'\u001b[0m\u001b[0;34m]\u001b[0m\u001b[0;34m[\u001b[0m\u001b[0;36m1\u001b[0m\u001b[0;34m]\u001b[0m\u001b[0;34m(\u001b[0m\u001b[0m_iermess\u001b[0m\u001b[0;34m[\u001b[0m\u001b[0;34m'unknown'\u001b[0m\u001b[0;34m]\u001b[0m\u001b[0;34m[\u001b[0m\u001b[0;36m0\u001b[0m\u001b[0;34m]\u001b[0m\u001b[0;34m)\u001b[0m\u001b[0;34m\u001b[0m\u001b[0;34m\u001b[0m\u001b[0m\n",
      "\u001b[0;31mValueError\u001b[0m: Error on input data"
     ]
    },
    {
     "data": {
      "image/png": "[encoded data removed]",
      "text/plain": [
       "<Figure size 432x288 with 1 Axes>"
      ]
     },
     "metadata": {
      "needs_background": "light"
     },
     "output_type": "display_data"
    }
   ],
   "source": [
    "# Your Code\n",
    "# we used the output version of task 37 by group 55 here\n",
    "g = np.loadtxt('BSplinesCrossValidationHyperparameters_data.csv', delimiter = ',')\n",
    "\n",
    "X = g[0]\n",
    "Y = g[1]\n",
    "\n",
    "plt.scatter(X,Y, marker = '.')\n",
    "\n",
    "\n",
    "\n",
    "knots = np.linspace(0,1,10)\n",
    "\n",
    "bspline_regression(X,Y,knots,3)"
   ]
  },
  {
   "cell_type": "markdown",
   "metadata": {},
   "source": [
    "4. Cross-validation\n",
    "----\n",
    "\n",
    "You may have noticed that no underlying target function is given this time. This is the typical case in real applications. The most popular approach to verify your fit in this case is cross-validation. Implement a 10-fold cross-validation and validate the model you chose in task 3. Print the mean and the standard deviation of the RMSE of your predidictions versus the validation data. Make sure the partition of the data is randomized.\n",
    "\n",
    "The following instructions are meant as a help. You may or may not follow them.\n",
    "\n",
    "(assuming you stored your data in `X` and `Y`)\n",
    "* create a list of length `len(X)` of indices\n",
    "* shuffle that list\n",
    "* split the indices into ten equally sized chunks\n",
    "* For the chunk $c\\in \\{1,\\dots,10\\}$ do the following:\n",
    "    * use the data correspondeing to the indices in $c$ as validation data (`X_val` and `Y_val`)\n",
    "    * use the data corresponding to remaining 9 chunks as training data (´X_train´ and ´Y_train´)\n",
    "    * fit your chosen spline model on the training data\n",
    "    * make an estimation with your model on the validation data (store it in ´Y_est´)\n",
    "    * calculate the RMSE between your estimation and the validation data\n",
    "* Calculate the mean and standard deviation of the errors\n",
    "\n",
    "*Functions: mean, std, ravel, delete, shuffle*"
   ]
  },
  {
   "cell_type": "code",
   "execution_count": null,
   "metadata": {
    "jupyter": {
     "outputs_hidden": false
    }
   },
   "outputs": [],
   "source": [
    "def rmse(x,y):\n",
    "    return np.sqrt(np.sum((x-y)**2)/len(x))\n",
    "\n",
    "# Your Code"
   ]
  },
  {
   "cell_type": "markdown",
   "metadata": {},
   "source": [
    "\n",
    "5. Model selection\n",
    "------\n",
    "We can distinguish two kinds of parameters. The first are coefficients in the regression model; we call them regression parameters. But there are other parameters we can manipulate in order to optimize our model. In the spline model, we can change the number of knots, the knot placement and spline degree; we call them hyper paramters.\n",
    "\n",
    "\n",
    "Write code that automatically finds a good set of hyperparamters, simply by trying different combinations of knot number, knot placement or spline degree. Use crossvalidation to determine the performance of a model. Print the regression weights, the knots and the spline degree of your best model to the console.\n",
    "\n",
    "*Hint: You can assume that the underlying function is symmetric around 0 and the 'hills' and 'valleys' have equal distance. This might reduce your search space.*"
   ]
  },
  {
   "cell_type": "code",
   "execution_count": null,
   "metadata": {
    "collapsed": true,
    "jupyter": {
     "outputs_hidden": true
    }
   },
   "outputs": [],
   "source": [
    "# Your Code"
   ]
  }
 ],
 "metadata": {
  "anaconda-cloud": {},
  "kernelspec": {
   "display_name": "Python 3",
   "language": "python",
   "name": "python3"
  },
  "language_info": {
   "codemirror_mode": {
    "name": "ipython",
    "version": 3
   },
   "file_extension": ".py",
   "mimetype": "text/x-python",
   "name": "python",
   "nbconvert_exporter": "python",
   "pygments_lexer": "ipython3",
   "version": "3.7.6"
  }
 },
 "nbformat": 4,
 "nbformat_minor": 4
}
