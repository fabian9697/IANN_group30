{
 "cells": [
  {
   "cell_type": "markdown",
   "metadata": {},
   "source": [
    "# 1 and 2: Preparation and Data Set"
   ]
  },
  {
   "cell_type": "code",
   "execution_count": 291,
   "metadata": {},
   "outputs": [],
   "source": [
    "import numpy as np \n",
    "\n",
    "#Possible combinations of inputs\n",
    "inputs = np.array([[0,0],[0,1],[1,0],[1,1]])\n",
    "\n",
    "#Target results for each logical gate. The array index matches the index of the corresponding input in the \"inputs\" array.\n",
    "target_and = np.array([0,0,0,1])\n",
    "target_or = np.array([0,1,1,1])\n",
    "target_nand = np.array([1,1,1,0])\n",
    "target_nor = np.array([1,0,0,0])\n",
    "target_xor = np.array([0,1,1,0])\n",
    "\n",
    "#Sigmoid function\n",
    "def sigmoid(x): \n",
    "    return (1 / (1 + np.exp(-x)))\n",
    "\n",
    "#Derivative of Sigmoid\n",
    "def sigmoidprime(x):\n",
    "    return (sigmoid(x) * (1 - sigmoid(x)))"
   ]
  },
  {
   "cell_type": "markdown",
   "metadata": {},
   "source": [
    "# 3: Perceptron class"
   ]
  },
  {
   "cell_type": "code",
   "execution_count": 292,
   "metadata": {},
   "outputs": [],
   "source": [
    "class Perceptron:\n",
    "    \n",
    "    def __init__(self, input_units):\n",
    "        #Amount of input units\n",
    "        self._input_units = input_units\n",
    "        #Initializes the weights and the bias randomly.\n",
    "        self._weights = np.random.randn(input_units)\n",
    "        self._bias = np.random.randn()\n",
    "        #Learning rate alpha\n",
    "        self._alpha = 1\n",
    "        #Variable to save the drive. Will be overwritten after every \"forward_step\".\n",
    "        self._drive = 0\n",
    "        #Array to save the activations of the previous layer (In case of the first hidden layer the inputs of the MLP). \n",
    "        #Will be overwritten after every \"forward_step\".\n",
    "        self._activations_previous_layer = np.empty(input_units)\n",
    "        \n",
    "    def forward_step(self, inputs):\n",
    "        #Inputs (activations of the previous layer) are saved for the backpropagation.\n",
    "        self._activations_previous_layer = inputs\n",
    "        \n",
    "        #Conducts a forward step.\n",
    "        self._drive = np.dot(inputs, self._weights) + self._bias \n",
    "        \n",
    "        #Applies the activation function sigmoid.\n",
    "        activation = sigmoid(self._drive)\n",
    "        return activation             \n",
    "    \n",
    "    def update(self, delta):\n",
    "        #Updates the weights of the perceptron.\n",
    "        self._weights -= self._alpha * delta * self._activations_previous_layer\n",
    "        \n",
    "        #Updates the bias of the perceptron.\n",
    "        self._bias -= self._alpha * delta * 1\n",
    "        \n",
    "    #getter methods\n",
    "    def _get_drive(self):\n",
    "        return self._drive\n",
    "    \n",
    "    def _get_weights(self):\n",
    "        return self._weights"
   ]
  },
  {
   "cell_type": "markdown",
   "metadata": {},
   "source": [
    "# 4: Multi-Layer Perceptron class"
   ]
  },
  {
   "cell_type": "code",
   "execution_count": 293,
   "metadata": {},
   "outputs": [],
   "source": [
    "class MLP:\n",
    "    \n",
    "    def __init__(self, size_hidden_layer):\n",
    "        #Size of hidden layer\n",
    "        self._size_hidden_layer = size_hidden_layer\n",
    "        \n",
    "        #Initializes the hidden layer (A list consisting of the neurons/ perceptrons of the hidden layer).\n",
    "        self._hidden_layer = [None for i in range(size_hidden_layer)]\n",
    "        amount_of_inputs = 2                                                #Two binary inputs of the logical gate\n",
    "        for i in range(self._size_hidden_layer):\n",
    "            self._hidden_layer[i] = Perceptron(amount_of_inputs)\n",
    "        \n",
    "        #Initializes the output layer. In this case just one neuron/ perceptron.\n",
    "        self._output_layer = Perceptron(size_hidden_layer)\n",
    "        \n",
    "    def forward_step(self, inputs):\n",
    "        #Computes the activations of the hidden layer by iterating over the Perceptrons in the array \"_hidden_layer\". \n",
    "        activations_hidden_layer = np.empty(self._size_hidden_layer)\n",
    "        for i in range(self._size_hidden_layer):\n",
    "            activations_hidden_layer[i] = self._hidden_layer[i].forward_step(inputs)\n",
    "            \n",
    "        #Computes the activation of the output layer.\n",
    "        prediction = self._output_layer.forward_step(activations_hidden_layer)\n",
    "        return prediction\n",
    "        \n",
    "    def backprop_step(self, loss):\n",
    "        #Calculates the delta of the output layer.\n",
    "        delta_output_layer = loss * sigmoidprime(self._output_layer._get_drive())\n",
    "        \n",
    "        #Calculates the deltas of the hidden layer. In the first step it is only the delta of the output layer multiplied\n",
    "        #by the weights between hidden layer and output layer. (-> This needs to be done before the weights are updated.)\n",
    "        weighted_delta_output_layer = delta_output_layer * self._output_layer._get_weights()\n",
    "        #Second step: Multiplying with the derivative of the drive of each perceptron.\n",
    "        deltas_hidden_layer = np.empty(self._size_hidden_layer)\n",
    "        for i in range(self._size_hidden_layer):             \n",
    "            deltas_hidden_layer[i] = weighted_delta_output_layer[i] * sigmoidprime(self._hidden_layer[i]._get_drive())\n",
    "        \n",
    "        #Updates the output layer perceptron.\n",
    "        self._output_layer.update(delta_output_layer) \n",
    "          \n",
    "        #Updates the hidden layer perceptrons.\n",
    "        for i in range(self._size_hidden_layer):\n",
    "            self._hidden_layer[i].update(deltas_hidden_layer[i])\n",
    "        "
   ]
  },
  {
   "cell_type": "markdown",
   "metadata": {},
   "source": [
    "# 5: Training"
   ]
  },
  {
   "cell_type": "code",
   "execution_count": 304,
   "metadata": {},
   "outputs": [],
   "source": [
    "#Defines the size of the hidden layer.\n",
    "size_hidden_layer = 4\n",
    "#Defines the logical gate which should be learned. This is done by choosing the corresponding target result array.\n",
    "target = target_xor    #target_and, target_or, target_nand, target_nor, target_xor\n",
    "\n",
    "#Initializes the corresponding Multi-Layer Perceptron.\n",
    "logical_gate = MLP(size_hidden_layer)\n",
    "\n",
    "#Defines the amount of training epochs.\n",
    "amount_of_training_epochs = 1000\n",
    "#Initializes the arrays to save the steps and the average accuracy and loss of each epoch.\n",
    "steps = np.empty(amount_of_training_epochs)\n",
    "average_accuracy_each_epoch = np.empty(amount_of_training_epochs)\n",
    "average_loss_each_epoch = np.empty(amount_of_training_epochs)\n",
    "\n",
    "#Conducts the training epochs.\n",
    "for epoch in range(amount_of_training_epochs):\n",
    "    #Saves the current epoch step.\n",
    "    steps[epoch] = epoch\n",
    "    #Defines the counting variables which are necessary to compute the average accuracy and loss. \n",
    "    correct_predictions_current_epoch = 0\n",
    "    loss_current_epoch = 0\n",
    "    \n",
    "    #Loops over each point in the input-dataset once.\n",
    "    for i in range(len(inputs)):\n",
    "        #Performs a forward step which returns the prediction.\n",
    "        prediction = logical_gate.forward_step(inputs[i])\n",
    "    \n",
    "        #Increments the \"correct_predictions_current_epoch\" count if the current predictions is correct.\n",
    "        if (prediction <= 0.5 and target[i] == 0) or (prediction > 0.5 and target[i] == 1):\n",
    "            correct_predictions_current_epoch += 1\n",
    "    \n",
    "        #Calculates the loss after the current forward step. \n",
    "        loss_current_epoch += np.square(target[i] - prediction)    #SQUARED ERROR!\n",
    "        #Calculates the loss between target and prediction which is given to the \"backprop_step\" function afterwards.\n",
    "        loss = -(target[i] - prediction)                          #NORMAL ERROR, because backpropagation doesnt work otherwise!\n",
    "    \n",
    "        #Performs the corresponding backpropagation step.\n",
    "        logical_gate.backprop_step(loss)\n",
    "    \n",
    "    #Updates the average accuracy and loss arrays.\n",
    "    average_accuracy_each_epoch[epoch] = correct_predictions_current_epoch / len(inputs)\n",
    "    average_loss_each_epoch[epoch] = loss_current_epoch / len(inputs) "
   ]
  },
  {
   "cell_type": "markdown",
   "metadata": {},
   "source": [
    "# 6: Visualization"
   ]
  },
  {
   "cell_type": "code",
   "execution_count": 305,
   "metadata": {},
   "outputs": [
    {
     "data": {
      "image/png": "[encoded data removed]",
      "text/plain": [
       "<Figure size 432x288 with 1 Axes>"
      ]
     },
     "metadata": {
      "needs_background": "light"
     },
     "output_type": "display_data"
    },
    {
     "data": {
      "image/png": "[encoded data removed]",
      "text/plain": [
       "<Figure size 432x288 with 1 Axes>"
      ]
     },
     "metadata": {
      "needs_background": "light"
     },
     "output_type": "display_data"
    }
   ],
   "source": [
    "import matplotlib.pyplot as plt\n",
    "\n",
    "plt.figure()\n",
    "plt.plot(steps, average_loss_each_epoch)\n",
    "plt.xlabel(\"Training Steps\")\n",
    "plt.ylabel(\"Loss\")\n",
    "plt.ylim([-0.1, 1.2])\n",
    "plt.show()\n",
    "\n",
    "plt.figure()\n",
    "plt.plot(steps, average_accuracy_each_epoch)\n",
    "plt.xlabel(\"Training Steps\")\n",
    "plt.ylabel(\"Accuracy\")\n",
    "plt.ylim([-0.1, 1.2])\n",
    "plt.show()"
   ]
  }
 ],
 "metadata": {
  "kernelspec": {
   "display_name": "Python 3",
   "language": "python",
   "name": "python3"
  },
  "language_info": {
   "codemirror_mode": {
    "name": "ipython",
    "version": 3
   },
   "file_extension": ".py",
   "mimetype": "text/x-python",
   "name": "python",
   "nbconvert_exporter": "python",
   "pygments_lexer": "ipython3",
   "version": "3.7.8"
  }
 },
 "nbformat": 4,
 "nbformat_minor": 4
}
