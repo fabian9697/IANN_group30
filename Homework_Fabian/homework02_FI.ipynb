{
 "cells": [
  {
   "cell_type": "markdown",
   "metadata": {},
   "source": [
    "# 1 and 2: Preparation and Data Set"
   ]
  },
  {
   "cell_type": "code",
   "execution_count": 172,
   "metadata": {},
   "outputs": [],
   "source": [
    "import numpy as np \n",
    "\n",
    "#Possible combinations of inputs\n",
    "inputs = np.array([[0,0],[0,1],[1,0],[1,1]])\n",
    "\n",
    "#Target results for each logical gate. The array index matches the index of the corresponding input in the \"inputs\" array.\n",
    "target_and = np.array([0,0,0,1])\n",
    "target_or = np.array([0,1,1,1])\n",
    "target_nand = np.array([1,1,1,0])\n",
    "target_nor = np.array([1,0,0,0])\n",
    "target_xor = np.array([0,1,1,0])\n",
    "\n",
    "#Sigmoid function\n",
    "def sigmoid(x): \n",
    "    return (1 / (1 + np.exp(-x)))\n",
    "\n",
    "#Derivative of Sigmoid\n",
    "def sigmoidprime(x):\n",
    "    return (sigmoid(x) * (1 - sigmoid(x)))"
   ]
  },
  {
   "cell_type": "markdown",
   "metadata": {},
   "source": [
    "# 3: Perceptron class"
   ]
  },
  {
   "cell_type": "code",
   "execution_count": 177,
   "metadata": {},
   "outputs": [],
   "source": [
    "class Perceptron:\n",
    "    \n",
    "    def __init__(self, input_units):\n",
    "        #Amount of input units\n",
    "        self.input_units = input_units\n",
    "        #Initializes the incoming weights and the bias randomly.\n",
    "        self.weights = np.random.randn(input_units)\n",
    "        self.bias = np.random.randn()\n",
    "        #Learning rate alpha\n",
    "        self.alpha = 1\n",
    "        #Current drive/input of activation (needs to be stored for the \"update\" function). Will be overwritten after every \"forward_step\".\n",
    "        self.current_drive_of_activation = 0\n",
    "        \n",
    "    def forward_step(self, inputs):\n",
    "        #Conducts a forward step.\n",
    "        #Calculates the drive/the input of the activation function and stores it, because it is needed to calculate the error term during the backpropagation (function \"update\").\n",
    "        self.current_drive_of_activation = np.dot(inputs, self.weights) + self.bias \n",
    "        \n",
    "        #Applies the activation function sigmoid.\n",
    "        activation = sigmoid(self.current_drive_of_activation)\n",
    "        return activation             \n",
    "    \n",
    "    def update(self, delta, inputs):\n",
    "        #Calculates the error term.\n",
    "        error_term = delta * sigmoidprime(self.current_drive_of_activation)\n",
    "        \n",
    "        #Updates each weight.\n",
    "        for i in range(len(self.weights)):\n",
    "            #Calculation dependend on the corresponding input of each weight.\n",
    "            delta_of_current_weight = error_term * inputs[i]\n",
    "            #Updates the corresponding weight.\n",
    "            self.weights[i] -= self.alpha * delta_of_current_weight \n",
    "        \n",
    "        #Updates the bias.\n",
    "        delta_bias = error_term * 1\n",
    "        self.bias -= self.alpha * delta_bias\n",
    "        \n",
    "        #Calculates the weighted deltas for the neurons in the preceding layer. This is necessary to continue the backpropagation\n",
    "        #troughout the entire ANN.\n",
    "        weighted_deltas = np.empty(self.input_units)   #As many weighted deltas as weights (\"input_units\")\n",
    "        #Seperate Calculation for each preceding neuron\n",
    "        for i in range(len(weighted_deltas)):\n",
    "            weighted_deltas[i] = error_term * self.weights[i]\n",
    "        return weighted_deltas "
   ]
  },
  {
   "cell_type": "markdown",
   "metadata": {},
   "source": [
    "# 4: Multi-Layer Perceptron class"
   ]
  },
  {
   "cell_type": "code",
   "execution_count": 178,
   "metadata": {},
   "outputs": [],
   "source": [
    "class MLP:\n",
    "    \n",
    "    def __init__(self, size_hidden_layer):\n",
    "        #Size of hidden layer\n",
    "        self.size_hidden_layer = size_hidden_layer\n",
    "        \n",
    "        #Initializes the hidden layer (A list filled with the neurons/perceptrons of the hidden layer).\n",
    "        self.hidden_layer = [None for i in range(size_hidden_layer)]\n",
    "        amount_of_inputs = 2                                     #Two binary inputs of the logical gate\n",
    "        for i in range(len(self.hidden_layer)):\n",
    "            self.hidden_layer[i] = Perceptron(amount_of_inputs)  #The instances of the Perceptron class are stored in the list.\n",
    "        \n",
    "        #Array to store the returned activations of the Perceptrons in the hidden layer. Thus it has the same shape like the hidden layer.\n",
    "        self.activations_of_hidden_layer = np.empty(size_hidden_layer)\n",
    "        \n",
    "        #Initializes the output layer. In this case just one neuron.\n",
    "        self.output_layer = Perceptron(size_hidden_layer)\n",
    "        \n",
    "    def forward_step(self, inputs):\n",
    "        #Firstly, the activations of the hidden layer are computed by iterating over the Perceptrons in the array \"hidden_layer\" and calling the \"forward_step\" function of the class Perceptron.\n",
    "        for i in range(len(self.activations_of_hidden_layer)):\n",
    "            self.activations_of_hidden_layer[i] = self.hidden_layer[i].forward_step(inputs)\n",
    "            \n",
    "        #Secondly, the activation of the output layer is computed.\n",
    "        output = self.output_layer.forward_step(self.activations_of_hidden_layer)\n",
    "        \n",
    "        #Returns the output, which is the prediction value of the ANN.\n",
    "        return output\n",
    "        \n",
    "    def backprop_step(self, delta, inputs):\n",
    "        #Firstly, the output layer is updated and the returned weighted deltas for the preceding hidden layer are stored.\n",
    "        weighted_deltas_for_hidden_layer = self.output_layer.update(delta, self.activations_of_hidden_layer)\n",
    "            \n",
    "        #Secondly, the hidden layer is updated. In this case the returned weighted deltas for the preceding hidden layer are irrelevant, because the preceding layer is the input layer.\n",
    "        for i in range(len(self.hidden_layer)):\n",
    "            self.hidden_layer[i].update(weighted_deltas_for_hidden_layer[i], inputs)\n",
    "        "
   ]
  },
  {
   "cell_type": "markdown",
   "metadata": {},
   "source": [
    "# 5: Training"
   ]
  },
  {
   "cell_type": "code",
   "execution_count": 187,
   "metadata": {},
   "outputs": [],
   "source": [
    "#Defines the size of the hidden layer.\n",
    "size_hidden_layer = 4\n",
    "#Defines the logical gate which should be learned. This is done by choosing the corresponding target result array.\n",
    "target = target_xor    #target_and, target_or, target_nand, target_nor, target_xor\n",
    "\n",
    "#Initializes the corresponding Multi-Layer Perceptron.\n",
    "logical_gate = MLP(size_hidden_layer)\n",
    "\n",
    "#Defines the amount of training epochs.\n",
    "amount_of_training_epochs = 1000\n",
    "#Initializes the arrays to store the steps and the average loss and accurcy of each epoch.\n",
    "steps = np.empty(amount_of_training_epochs)\n",
    "average_loss_each_epoch = np.empty(amount_of_training_epochs)\n",
    "average_accuracy_each_epoch = np.empty(amount_of_training_epochs)\n",
    "\n",
    "#Conducts the training epochs.\n",
    "for epoch in range(amount_of_training_epochs):\n",
    "    #Stores the current epoch step.\n",
    "    steps[epoch] = epoch\n",
    "    #Defines the counting variables which are necessary to compute the average loss and accuray. \n",
    "    loss_each_epoch = 0\n",
    "    correct_predictions_each_epoch = 0\n",
    "    \n",
    "    #Loops over each point in the input-dataset once.\n",
    "    for i in range(len(inputs)):\n",
    "        #Performs a forward step which returns the prediction.\n",
    "        prediction = logical_gate.forward_step(inputs[i])\n",
    "    \n",
    "        #Calculates the loss of the current forward step. \n",
    "        loss_each_epoch += np.square(target[i] - prediction)\n",
    "    \n",
    "        #Increments the \"correct_predictions_each_epoch\" count if the current predictions is correct.\n",
    "        if (prediction <= 0.5 and target[i] == 0) or (prediction > 0.5 and target[i] == 1):\n",
    "            correct_predictions_each_epoch += 1\n",
    "    \n",
    "        #Calculates the delta between target and prediction which is given to the \"backprop_step\" function afterwards.\n",
    "        delta = -(target[i] - prediction)\n",
    "        #Performs the corresponding backpropagation step.\n",
    "        logical_gate.backprop_step(delta, inputs[i])\n",
    "    \n",
    "    #Updates the average loss and accurcy arrays. \"len(inputs)\" returns the amount of training examples\n",
    "    average_loss_each_epoch[epoch] = loss_each_epoch / len(inputs) \n",
    "    average_accuracy_each_epoch[epoch] = correct_predictions_each_epoch / len(inputs)"
   ]
  },
  {
   "cell_type": "markdown",
   "metadata": {},
   "source": [
    "# 6: Visualization"
   ]
  },
  {
   "cell_type": "code",
   "execution_count": 188,
   "metadata": {},
   "outputs": [
    {
     "data": {
      "image/png": "[encoded data removed]",
      "text/plain": [
       "<Figure size 432x288 with 1 Axes>"
      ]
     },
     "metadata": {
      "needs_background": "light"
     },
     "output_type": "display_data"
    },
    {
     "data": {
      "image/png": "[encoded data removed]",
      "text/plain": [
       "<Figure size 432x288 with 1 Axes>"
      ]
     },
     "metadata": {
      "needs_background": "light"
     },
     "output_type": "display_data"
    }
   ],
   "source": [
    "import matplotlib.pyplot as plt\n",
    "\n",
    "plt.figure()\n",
    "plt.plot(steps, average_loss_each_epoch)\n",
    "plt.xlabel(\"Training Steps\")\n",
    "plt.ylabel(\"Loss\")\n",
    "plt.ylim([-0.1, 1.2])\n",
    "plt.show()\n",
    "\n",
    "plt.figure()\n",
    "plt.plot(steps, average_accuracy_each_epoch)\n",
    "plt.xlabel(\"Training Steps\")\n",
    "plt.ylabel(\"Accuracy\")\n",
    "plt.ylim([-0.1, 1.2])\n",
    "plt.show()"
   ]
  },
  {
   "cell_type": "code",
   "execution_count": null,
   "metadata": {},
   "outputs": [],
   "source": []
  }
 ],
 "metadata": {
  "kernelspec": {
   "display_name": "Python 3",
   "language": "python",
   "name": "python3"
  },
  "language_info": {
   "codemirror_mode": {
    "name": "ipython",
    "version": 3
   },
   "file_extension": ".py",
   "mimetype": "text/x-python",
   "name": "python",
   "nbconvert_exporter": "python",
   "pygments_lexer": "ipython3",
   "version": "3.7.8"
  }
 },
 "nbformat": 4,
 "nbformat_minor": 4
}
