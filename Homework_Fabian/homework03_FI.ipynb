{
  "nbformat": 4,
  "nbformat_minor": 0,
  "metadata": {
    "colab": {
      "name": "homework03_FI.ipynb",
      "provenance": [],
      "collapsed_sections": []
    },
    "kernelspec": {
      "display_name": "Python 3",
      "name": "python3"
    },
    "accelerator": "GPU"
  },
  "cells": [
    {
      "cell_type": "markdown",
      "metadata": {
        "id": "dnFBbvYOYVTp"
      },
      "source": [
        "**Necessary libraries and modules**"
      ]
    },
    {
      "cell_type": "code",
      "metadata": {
        "id": "L27sqsWwpU3c"
      },
      "source": [
        "import numpy as np\n",
        "\n",
        "%tensorflow_version 2.x\n",
        "import tensorflow as tf\n",
        "import tensorflow_datasets as tfds\n",
        "\n",
        "import matplotlib.pyplot as plt"
      ],
      "execution_count": 19,
      "outputs": []
    },
    {
      "cell_type": "markdown",
      "metadata": {
        "id": "i6Mi7FOMYtFQ"
      },
      "source": [
        "**1. Data set**"
      ]
    },
    {
      "cell_type": "code",
      "metadata": {
        "id": "yoSW8IgXv7qs"
      },
      "source": [
        "# Defines the batch size which is used several times troughout the notebook. \n",
        "batch_size = 100\n",
        "\n",
        "# Function to convert the string tensor into a usable tensor that contains the one-hot-encoded sequence (4 digits for each letter (250 letters per input) -> all in all 1000 input neurons).\n",
        "def onehotify(tensor):\n",
        "  vocab = {'A':'1', 'C': '2', 'G':'3', 'T':'0'}\n",
        "  for key in vocab.keys():\n",
        "    tensor = tf.strings.regex_replace(tensor, key, vocab[key])\n",
        "  split = tf.strings.bytes_split(tensor)\n",
        "  labels = tf.cast(tf.strings.to_number(split), tf.uint8)                            #DO IT YOURSELF FOR OUTSTANDING?????\n",
        "  onehot = tf.one_hot(labels, 4)\n",
        "  onehot = tf.reshape(onehot, (-1,))\n",
        "  return onehot\n",
        "\n",
        "# Loads training and test data and saves it in two seperate TF Datasets (which have a 2-tuple structure (input, target)).\n",
        "training_data, test_data = tfds.load('genomics_ood', split = ['train[:100000]', 'test[:1000]'], as_supervised = True)\n",
        "\n",
        "# Handles the data. Provides separated datasets for inputs and targets each.\n",
        "training_dataset_inputs = training_data.map(lambda inputs, targets: onehotify(inputs))\n",
        "training_dataset_targets = training_data.map(lambda inputs, targets: tf.one_hot(targets, 10))\n",
        "\n",
        "test_dataset_inputs = test_data.map(lambda inputs, targets: onehotify(inputs))\n",
        "test_dataset_targets = test_data.map(lambda inputs, targets: tf.one_hot(targets, 10))\n",
        "\n",
        "# Zips together inputs and labels for training- and test dataset. Afterwards Batching and prefetching is conducted.\n",
        "training_dataset = tf.data.Dataset.zip((training_dataset_inputs, training_dataset_targets))\n",
        "training_dataset = training_dataset.batch(batch_size).prefetch(2)\n",
        "\n",
        "test_dataset = tf.data.Dataset.zip((test_dataset_inputs, test_dataset_targets))\n",
        "test_dataset = test_dataset.batch(batch_size).prefetch(2)      "
      ],
      "execution_count": 24,
      "outputs": []
    },
    {
      "cell_type": "markdown",
      "metadata": {
        "id": "MIWuGW0OY4WW"
      },
      "source": [
        "**2. Model**"
      ]
    },
    {
      "cell_type": "code",
      "metadata": {
        "id": "eLa1-HcxOv3v"
      },
      "source": [
        "from tensorflow.keras import Model\n",
        "from tensorflow.keras.layers import Layer\n",
        "\n",
        "# Class of the MLP.\n",
        "class Model(Model): \n",
        "    \n",
        "    def __init__(self):\n",
        "        super(Model, self).__init__()\n",
        "        self.hidden_layer_1 = tf.keras.layers.Dense(units=256, activation=tf.keras.activations.sigmoid)\n",
        "        self.hidden_layer_2 = tf.keras.layers.Dense(units=256, activation=tf.keras.activations.sigmoid)\n",
        "        self.output_layer = tf.keras.layers.Dense(units=10, activation=tf.keras.activations.softmax)\n",
        "\n",
        "    # Function to define a forward step (with python decorator).\n",
        "    @tf.function\n",
        "    def call(self, input):\n",
        "        activ_hidden_1 = self.hidden_layer_1(input)\n",
        "        activ_hidden_2 = self.hidden_layer_2(activ_hidden_1)\n",
        "        prediction = self.output_layer(activ_hidden_2)\n",
        "        return prediction"
      ],
      "execution_count": 25,
      "outputs": []
    },
    {
      "cell_type": "markdown",
      "metadata": {
        "id": "s5XUsOIdY9-r"
      },
      "source": [
        "**3. Training**"
      ]
    },
    {
      "cell_type": "code",
      "metadata": {
        "id": "UYf3qvc8lYfS"
      },
      "source": [
        "# Function to conduct a forward step including backpropagation.\n",
        "def training_step(mlp, training_data, loss_fn, optimizer):\n",
        "  training_losses = []\n",
        "  training_accuracies = []\n",
        "\n",
        "  for (input, target) in training_data:\n",
        "    with tf.GradientTape() as tape:\n",
        "      prediction = mlp(input)\n",
        "      current_training_loss = loss_fn(target, prediction)\n",
        "      gradients = tape.gradient(current_training_loss, mlp.trainable_variables)\n",
        "      optimizer.apply_gradients(zip(gradients, mlp.trainable_variables))\n",
        "\n",
        "    training_losses.append(current_training_loss)\n",
        "\n",
        "    current_training_accuracy = np.argmax(target, axis=1) == np.argmax(prediction, axis=1)\n",
        "    training_accuracies.append(current_training_accuracy)   \n",
        "  \n",
        "  training_loss = np.mean(training_losses)\n",
        "  training_accuracy = np.mean(training_accuracies)\n",
        "  return training_loss, training_accuracy\n",
        "\n",
        "# Function to determine the test loss and accuracy.\n",
        "def test(mlp, test_data, loss_fn):\n",
        "  test_losses = []\n",
        "  test_accuracies = []\n",
        "\n",
        "  for (input, target) in test_data:\n",
        "    prediction = mlp(input)\n",
        "    \n",
        "    current_test_loss = loss_fn(target, prediction)\n",
        "    test_losses.append(current_test_loss)\n",
        "\n",
        "    current_test_accuracy = np.argmax(target, axis=1) == np.argmax(prediction, axis=1)\n",
        "    test_accuracies.append(current_test_accuracy)   \n",
        "    \n",
        "  test_loss = np.mean(test_losses)\n",
        "  test_accuracy = np.mean(test_accuracies)\n",
        "  return test_loss, test_accuracy"
      ],
      "execution_count": 26,
      "outputs": []
    },
    {
      "cell_type": "code",
      "metadata": {
        "id": "909WGbX4YDeX",
        "outputId": "bdee23b5-f23a-4593-b785-57a30c4f8b90",
        "colab": {
          "base_uri": "https://localhost:8080/"
        }
      },
      "source": [
        "tf.keras.backend.clear_session()\n",
        "\n",
        "# Important parameters to train the MLP.\n",
        "n_epochs = 10\n",
        "learning_rate = 0.1\n",
        "\n",
        "# Initialization of the MLP, the loss function and the optimizer.\n",
        "mlp = Model()\n",
        "loss_fn = tf.keras.losses.CategoricalCrossentropy()\n",
        "optimizer = tf.keras.optimizers.SGD(learning_rate)\n",
        "\n",
        "# Initialization of the lists which save data for visualization.\n",
        "training_losses = []\n",
        "training_accuracies = []\n",
        "test_losses = []\n",
        "test_accuracies = []\n",
        "\n",
        "# Training and testing loop.\n",
        "for epoch in range(n_epochs):\n",
        "    print('Epoch ' + str(epoch))\n",
        "\n",
        "    #Shuffles the datasets for each epoch to ensure that the order of inputs is always changed.\n",
        "    training_dataset = training_dataset.shuffle(buffer_size = batch_size)\n",
        "    test_dataset = test_dataset.shuffle(buffer_size = batch_size)\n",
        "\n",
        "    #Training\n",
        "    training_loss, training_accuracy = training_step(mlp, training_dataset, loss_fn, optimizer)\n",
        "    training_losses.append(training_loss)\n",
        "    training_accuracies.append(training_accuracy)\n",
        "\n",
        "    #Test\n",
        "    test_loss, test_accuracy = test(mlp, test_dataset, loss_fn)\n",
        "    test_losses.append(test_loss)\n",
        "    test_accuracies.append(test_accuracy)"
      ],
      "execution_count": 27,
      "outputs": [
        {
          "output_type": "stream",
          "text": [
            "Epoch 0\n",
            "Epoch 1\n",
            "Epoch 2\n",
            "Epoch 3\n",
            "Epoch 4\n",
            "Epoch 5\n",
            "Epoch 6\n",
            "Epoch 7\n",
            "Epoch 8\n",
            "Epoch 9\n"
          ],
          "name": "stdout"
        }
      ]
    },
    {
      "cell_type": "markdown",
      "metadata": {
        "id": "lh97kchdq-zg"
      },
      "source": [
        "**4. Visualization**"
      ]
    },
    {
      "cell_type": "markdown",
      "metadata": {
        "id": "nrUGnGVtfS3o"
      },
      "source": [
        ""
      ]
    },
    {
      "cell_type": "code",
      "metadata": {
        "id": "nXiCHpgefQbB",
        "outputId": "7841eff5-4e1d-4fb4-c7d7-6d8e10a233a7",
        "colab": {
          "base_uri": "https://localhost:8080/",
          "height": 541
        }
      },
      "source": [
        "# Visualizes accuracy and loss for training and test data.\n",
        "plt.figure()\n",
        "line1, = plt.plot(training_losses)\n",
        "line2, = plt.plot(test_losses)\n",
        "plt.xlabel(\"Training steps\")\n",
        "plt.ylabel(\"Loss\")\n",
        "plt.legend((line1, line2),(\"Training\", \"Test\"))\n",
        "plt.show()\n",
        "\n",
        "plt.figure()\n",
        "line1, = plt.plot(training_accuracies)\n",
        "line2, = plt.plot(test_accuracies)\n",
        "plt.xlabel(\"Training steps\")\n",
        "plt.ylabel(\"Accuracy\")\n",
        "plt.legend((line1, line2),(\"Training\", \"Test\"))\n",
        "plt.show()"
      ],
      "execution_count": 28,
      "outputs": [
        {
          "output_type": "display_data",
          "data": {
            "image/png": "[encoded data removed]",
            "text/plain": [
              "<Figure size 432x288 with 1 Axes>"
            ]
          },
          "metadata": {
            "tags": [],
            "needs_background": "light"
          }
        },
        {
          "output_type": "display_data",
          "data": {
            "image/png": "[encoded data removed]",
            "text/plain": [
              "<Figure size 432x288 with 1 Axes>"
            ]
          },
          "metadata": {
            "tags": [],
            "needs_background": "light"
          }
        }
      ]
    }
  ]
}