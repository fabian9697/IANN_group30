{
  "nbformat": 4,
  "nbformat_minor": 0,
  "metadata": {
    "colab": {
      "name": "homework09_group30.ipynb",
      "provenance": [],
      "collapsed_sections": []
    },
    "kernelspec": {
      "name": "python3",
      "display_name": "Python 3"
    },
    "accelerator": "GPU"
  },
  "cells": [
    {
      "cell_type": "code",
      "metadata": {
        "id": "8cr2DBOYo0rN"
      },
      "source": [
        "import numpy as np\r\n",
        "\r\n",
        "%tensorflow_version 2.x\r\n",
        "import tensorflow as tf\r\n",
        "import matplotlib.pyplot as plt"
      ],
      "execution_count": 32,
      "outputs": []
    },
    {
      "cell_type": "markdown",
      "metadata": {
        "id": "UbCkI1wt7Xdr"
      },
      "source": [
        "Dataset Generation and Preprocessing"
      ]
    },
    {
      "cell_type": "code",
      "metadata": {
        "id": "gRQXU7mV7W_7"
      },
      "source": [
        "def count(vector, value):\r\n",
        "    elements_equal_to_value = tf.equal(vector, value)           # Returns a tf.tensor of booleans (True = value found at this position).\r\n",
        "    as_intengers = tf.cast(elements_equal_to_value, tf.int32)     \r\n",
        "    count = tf.reduce_sum(as_intengers)                         # Sums the occurences of the value up.\r\n",
        "    return count\r\n",
        "\r\n",
        "def get_context():\r\n",
        "  context = tf.random.uniform(shape = [2], minval = 0, maxval = 10, dtype = tf.dtypes.int32)\r\n",
        "  while(1):                                                     # Check to ensure that the context does not contain the same digit two times.\r\n",
        "    if context[0] != context[1]:\r\n",
        "      break\r\n",
        "    elif context[0] == context[1]:\r\n",
        "      context = tf.random.uniform(shape = [2], minval = 0, maxval = 10, dtype = tf.dtypes.int32)\r\n",
        "  return context\r\n",
        "\r\n",
        "def get_sequence(n_timesteps):\r\n",
        "  sequence = tf.random.uniform(shape = [n_timesteps], minval = 0, maxval = 10, dtype = tf.dtypes.int32)\r\n",
        "  return sequence\r\n",
        "\r\n",
        "def get_target(context, sequence):\r\n",
        "  count_first_digit = count(sequence, context[0])\r\n",
        "  count_second_digit = count(sequence, context[1])\r\n",
        "\r\n",
        "  target = 0\r\n",
        "  if count_first_digit > count_second_digit:\r\n",
        "    target = 0  \r\n",
        "  elif count_first_digit < count_second_digit:\r\n",
        "    target = 1\r\n",
        "  elif count_first_digit == count_second_digit:\r\n",
        "    target = 2   \r\n",
        "    \r\n",
        "  target = tf.one_hot(target, 3)\r\n",
        "  return target \r\n",
        "\r\n",
        "def generate_dataset(batch_size, n_timesteps):\r\n",
        "  inputs = []\r\n",
        "  targets = []\r\n",
        "  for i in range(batch_size):\r\n",
        "    context = get_context()\r\n",
        "    sequence = get_sequence(n_timesteps)\r\n",
        "    targets.append(get_target(context, sequence))\r\n",
        "\r\n",
        "    context = tf.one_hot(context, 10)\r\n",
        "    sequence = tf.one_hot(sequence, 10)\r\n",
        "    inps = []\r\n",
        "    for step in range(n_timesteps):  \r\n",
        "      inps.append(tf.concat((context, tf.expand_dims(sequence[step], axis = 0)), axis = 0))\r\n",
        "    inputs.append(inps)\r\n",
        "\r\n",
        "  input_dataset = tf.data.Dataset.from_tensor_slices(inputs)\r\n",
        "  target_dataset = tf.data.Dataset.from_tensor_slices(targets)\r\n",
        "  dataset = tf.data.Dataset.zip((input_dataset, target_dataset))\r\n",
        "  dataset = dataset.batch(batch_size).prefetch(batch_size)  \r\n",
        "  return dataset                 "
      ],
      "execution_count": 33,
      "outputs": []
    },
    {
      "cell_type": "markdown",
      "metadata": {
        "id": "F33hdyiTp60a"
      },
      "source": [
        "LSTM cell class"
      ]
    },
    {
      "cell_type": "code",
      "metadata": {
        "id": "Njfo-R5bp6FY"
      },
      "source": [
        "class LSTMCell(tf.keras.Model):\r\n",
        "\r\n",
        "  def __init__(self, state_size):\r\n",
        "    super(LSTMCell, self).__init__()\r\n",
        "\r\n",
        "    self.forget_gate = tf.keras.layers.Dense(units = state_size,                    \r\n",
        "                                             activation = tf.keras.activations.sigmoid,\r\n",
        "                                             bias_initializer = 'ones')                   # Setting the biases of the forget gate to one initially.\r\n",
        "\r\n",
        "    self.input_gate = tf.keras.layers.Dense(units = state_size,\r\n",
        "                                            activation = tf.keras.activations.sigmoid)\r\n",
        "    \r\n",
        "    self.output_gate = tf.keras.layers.Dense(units = state_size,\r\n",
        "                                             activation = tf.keras.activations.sigmoid)\r\n",
        "\r\n",
        "    self.cell_state_candidates = tf.keras.layers.Dense(units = state_size,\r\n",
        "                                                       activation = tf.keras.activations.tanh)\r\n",
        "\r\n",
        "\r\n",
        "  def call(self, input, states):\r\n",
        "    (old_hidden_state, old_cell_state) = states\r\n",
        "    concat_input = tf.expand_dims(tf.concat((old_hidden_state, input), axis = 0), axis = 0)   \r\n",
        "\r\n",
        "    old_cell_state = old_cell_state * self.forget_gate(concat_input)\r\n",
        "    update = self.input_gate(concat_input) * self.cell_state_candidates(concat_input) \r\n",
        "    new_cell_state = old_cell_state + update\r\n",
        "    new_hidden_state = tf.keras.activations.tanh(new_cell_state) * self.output_gate(concat_input)\r\n",
        "\r\n",
        "    return (tf.squeeze(new_hidden_state), tf.squeeze(new_cell_state))"
      ],
      "execution_count": 34,
      "outputs": []
    },
    {
      "cell_type": "markdown",
      "metadata": {
        "id": "Tb9RpaK5sqQ6"
      },
      "source": [
        "LSTM class"
      ]
    },
    {
      "cell_type": "code",
      "metadata": {
        "id": "OOj4Ic0Asqb7"
      },
      "source": [
        "class LSTM(tf.keras.Model):\r\n",
        "    \r\n",
        "  def __init__(self, state_size):\r\n",
        "    super(LSTM, self).__init__()\r\n",
        "\r\n",
        "    self.state_size = state_size\r\n",
        "    self.lstm_cell = LSTMCell(state_size)\r\n",
        "        \r\n",
        "\r\n",
        "  def call(self, input, zero_states):\r\n",
        "    states = zero_states    \r\n",
        "\r\n",
        "    output = []\r\n",
        "    for sequence in input:                              # Iterate over each sequence (item of batch).\r\n",
        "      for inp in sequence:                              # Iterate over each context-sequence input pair.\r\n",
        "        states = self.lstm_cell(inp, states)            # Call the LSTM cell with its own output \"states\"\r\n",
        "      (current_output, _) = states \r\n",
        "      output.append(current_output)\r\n",
        "    \r\n",
        "    output = tf.reshape(tf.convert_to_tensor(output), shape = [-1, self.state_size])       # Batch of outputs.\r\n",
        "    return output"
      ],
      "execution_count": 35,
      "outputs": []
    },
    {
      "cell_type": "markdown",
      "metadata": {
        "id": "p6fQDP-ezESh"
      },
      "source": [
        "Model class"
      ]
    },
    {
      "cell_type": "code",
      "metadata": {
        "id": "lE7ARQQPzIH2"
      },
      "source": [
        "class Model(tf.keras.Model):\r\n",
        "    \r\n",
        "  def __init__(self, state_size, n_timesteps):\r\n",
        "    super(Model, self).__init__()\r\n",
        "\r\n",
        "    self.input_layer = tf.keras.layers.Reshape((n_timesteps, 30))                           # (n_timesteps of input, length of the one-hot encoded input vector) \r\n",
        "    self.lstm = LSTM(state_size)\r\n",
        "    self.output_layer = tf.keras.layers.Dense(units = 3,                                  \r\n",
        "                                              activation = tf.keras.activations.softmax)    # 0 = first digit, 1 = second digit, 2 = equally frequent\r\n",
        "\r\n",
        "\r\n",
        "  def call(self, input, zero_states):\r\n",
        "    x = self.input_layer(input)\r\n",
        "    x = self.lstm(tf.squeeze(x), zero_states)\r\n",
        "    x = self.output_layer(x)\r\n",
        "   \r\n",
        "    return x"
      ],
      "execution_count": 36,
      "outputs": []
    },
    {
      "cell_type": "markdown",
      "metadata": {
        "id": "322vzslwJkYV"
      },
      "source": [
        "Training"
      ]
    },
    {
      "cell_type": "code",
      "metadata": {
        "id": "7PNjN6iRJki6"
      },
      "source": [
        "def training_step(model, dataset, loss_fn, optimizer, zero_states):\r\n",
        "  training_losses = []\r\n",
        "  training_accuracies = []\r\n",
        "\r\n",
        "  for (input, target) in dataset:\r\n",
        "    with tf.GradientTape() as tape:\r\n",
        "      prediction = model(input, zero_states)\r\n",
        "      current_loss = loss_fn(target, prediction)\r\n",
        "      gradients = tape.gradient(current_loss, model.trainable_variables)\r\n",
        "    optimizer.apply_gradients(zip(gradients, model.trainable_variables))\r\n",
        "    \r\n",
        "    training_losses.append(current_loss.numpy())\r\n",
        "\r\n",
        "    current_accuracy = np.argmax(target, axis = 1) == np.argmax(prediction, axis = 1)\r\n",
        "    training_accuracies.append(np.mean(current_accuracy))   \r\n",
        "  \r\n",
        "  training_loss = np.mean(training_losses)\r\n",
        "  training_accuracy = np.mean(training_accuracies)\r\n",
        "  return training_loss, training_accuracy"
      ],
      "execution_count": 37,
      "outputs": []
    },
    {
      "cell_type": "code",
      "metadata": {
        "colab": {
          "base_uri": "https://localhost:8080/"
        },
        "id": "6QmjJeT8O92i",
        "outputId": "1b06434a-b9be-4bfb-cf7d-9b0f62a9ef2f"
      },
      "source": [
        "tf.keras.backend.clear_session()\r\n",
        "\r\n",
        "state_size = 10\r\n",
        "init_hidden_state = tf.zeros(shape = [state_size])\r\n",
        "init_cell_state = tf.zeros(shape = [state_size])\r\n",
        "zero_states = (init_hidden_state, init_cell_state)          # Call the LSTM with zero state initially.  \r\n",
        "n_timesteps = 100         \r\n",
        "model = Model(state_size, n_timesteps)\r\n",
        "\r\n",
        "n_epochs = 20\r\n",
        "learning_rate = 0.001\r\n",
        "batch_size = 64\r\n",
        "loss_fn = tf.keras.losses.CategoricalCrossentropy()\r\n",
        "optimizer = tf.keras.optimizers.Adam(learning_rate)   \r\n",
        "\r\n",
        "training_losses = []\r\n",
        "training_accuracies = []\r\n",
        "\r\n",
        "# Training and test loop\r\n",
        "for epoch in range(n_epochs):\r\n",
        "  print('Epoch ' + str(epoch))\r\n",
        "\r\n",
        "  dataset = generate_dataset(batch_size, n_timesteps)\r\n",
        "  training_loss, training_accuracy = training_step(model, dataset, loss_fn, optimizer, zero_states)\r\n",
        "  training_losses.append(training_loss)\r\n",
        "  training_accuracies.append(training_accuracy)"
      ],
      "execution_count": 44,
      "outputs": [
        {
          "output_type": "stream",
          "text": [
            "Epoch 0\n",
            "Epoch 1\n",
            "Epoch 2\n",
            "Epoch 3\n",
            "Epoch 4\n",
            "Epoch 5\n",
            "Epoch 6\n",
            "Epoch 7\n",
            "Epoch 8\n",
            "Epoch 9\n",
            "Epoch 10\n",
            "Epoch 11\n",
            "Epoch 12\n",
            "Epoch 13\n",
            "Epoch 14\n",
            "Epoch 15\n",
            "Epoch 16\n",
            "Epoch 17\n",
            "Epoch 18\n",
            "Epoch 19\n"
          ],
          "name": "stdout"
        }
      ]
    },
    {
      "cell_type": "markdown",
      "metadata": {
        "id": "L826Jf0HP-Yr"
      },
      "source": [
        "Visualization"
      ]
    },
    {
      "cell_type": "code",
      "metadata": {
        "colab": {
          "base_uri": "https://localhost:8080/",
          "height": 279
        },
        "id": "JX5mFkpxP-hW",
        "outputId": "b4799512-92b8-48d0-9d6b-38afaeb12da7"
      },
      "source": [
        "# Description: The figure shows the loss and the accuracy for each epoch during the training of the model.\r\n",
        "plt.figure()\r\n",
        "line1, = plt.plot(training_losses)\r\n",
        "line2, = plt.plot(training_accuracies)\r\n",
        "plt.xlabel(\"Training steps\")\r\n",
        "plt.legend((line1, line2),(\"Loss\", \"Accuracy\"))\r\n",
        "plt.show()"
      ],
      "execution_count": 45,
      "outputs": [
        {
          "output_type": "display_data",
          "data": {
            "image/png": "[encoded data removed]",
            "text/plain": [
              "<Figure size 432x288 with 1 Axes>"
            ]
          },
          "metadata": {
            "tags": [],
            "needs_background": "light"
          }
        }
      ]
    }
  ]
}