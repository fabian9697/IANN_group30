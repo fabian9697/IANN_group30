{
 "cells": [
  {
   "cell_type": "markdown",
   "metadata": {},
   "source": [
    "# 1 and 2: Preparation and Data Set"
   ]
  },
  {
   "cell_type": "code",
   "execution_count": 29,
   "metadata": {},
   "outputs": [],
   "source": [
    "# Description: An array of possible binary inputs is given. \n",
    "#              Moreover, the targets of the different logical gates (and, or, nand, nor and xor) are defined.\n",
    "#              Additionally, functions for the activation function (sigmoid) and it's derivative (sigmoidprime)\n",
    "#              are defined.\n",
    "\n",
    "import numpy as np \n",
    "\n",
    "inputs = np.array([[0,0],[0,1],[1,0],[1,1]])\n",
    "\n",
    "target_and = np.array([0,0,0,1])\n",
    "target_or = np.array([0,1,1,1])\n",
    "target_nand = np.array([1,1,1,0])\n",
    "target_nor = np.array([1,0,0,0])\n",
    "target_xor = np.array([0,1,1,0])\n",
    "\n",
    "def sigmoid(x): \n",
    "    return (1 / (1 + np.exp(-x)))\n",
    "\n",
    "def sigmoidprime(x):\n",
    "    return (sigmoid(x) * (1 - sigmoid(x)))"
   ]
  },
  {
   "cell_type": "markdown",
   "metadata": {},
   "source": [
    "# 3: Perceptron class"
   ]
  },
  {
   "cell_type": "code",
   "execution_count": 30,
   "metadata": {},
   "outputs": [],
   "source": [
    "# Description: The class Perceptron describes the behavior of a single neuron, therefore it includes:\n",
    "#              @init parameters: input_units\n",
    "#              @class variables: -\n",
    "#              @object variables: _input_units, _weights, _bias, _alpha, _drive, _activations_previous_layer\n",
    "#              @functions: forward_step, update, _get_drive, _get_weights\n",
    "\n",
    "class Perceptron:\n",
    "    \n",
    "    def __init__(self, input_units):\n",
    "        self._input_units = input_units\n",
    "        self._weights = np.random.randn(input_units)\n",
    "        self._bias = np.random.randn()\n",
    "        self._alpha = 1\n",
    "        self._drive = 0\n",
    "        \n",
    "        # Array to save the activations of the previous layer (In case of the first hidden layer the inputs of the MLP). \n",
    "        self._activations_previous_layer = np.empty(input_units)\n",
    " \n",
    "\n",
    "    # Description: This function conducts one forward step of the perceptron. \n",
    "    #              Therefore it computes the output with the activation function sigmoid depending on the drive. \n",
    "    #              Moreover, the inputs are saved in the object variable _activations_previous_layer, because \n",
    "    #              they are needed for the backpropagation later on.\n",
    "    #              @parameters: inputs\n",
    "    def forward_step(self, inputs):\n",
    "        self._activations_previous_layer = inputs\n",
    "        self._drive = np.dot(inputs, self._weights) + self._bias \n",
    "        activation = sigmoid(self._drive)\n",
    "        return activation             \n",
    " \n",
    "\n",
    "    # Description: This function updates the weights and the bias of the perceptron.\n",
    "    #              @parameters: delta\n",
    "    def update(self, delta):\n",
    "        self._weights -= self._alpha * delta * self._activations_previous_layer\n",
    "        self._bias -= self._alpha * delta * 1\n",
    " \n",
    "    def _get_drive(self):\n",
    "        return self._drive\n",
    "         \n",
    "    def _get_weights(self):\n",
    "        return self._weights"
   ]
  },
  {
   "cell_type": "markdown",
   "metadata": {},
   "source": [
    "# 4: Multi-Layer Perceptron class"
   ]
  },
  {
   "cell_type": "code",
   "execution_count": 31,
   "metadata": {},
   "outputs": [],
   "source": [
    "# Description: The class MLP describes a multi-layer perceptron with one hidden layer and one output perceptron.\n",
    "#              @init parameters: input_units, size_hidden_layer\n",
    "#              @class variables: -\n",
    "#              @object variables: _size_hidden_layer, _hidden_layer[], _output_layer\n",
    "#              @functions: forward_step, backprop_step\n",
    "\n",
    "class MLP:\n",
    "    \n",
    "    def __init__(self, input_units, size_hidden_layer):\n",
    "        self._size_hidden_layer = size_hidden_layer\n",
    "        \n",
    "        self._hidden_layer = [None for i in range(size_hidden_layer)]\n",
    "        for i in range(len(self._hidden_layer)):\n",
    "            self._hidden_layer[i] = Perceptron(input_units)\n",
    "        \n",
    "        self._output_layer = Perceptron(size_hidden_layer)\n",
    "\n",
    "        \n",
    "    # Description: This function conducts one forward step of the MLP. \n",
    "    #              Therefore it computes firstly the activations of the perceptrons in the hidden layer and \n",
    "    #              secondly the activation of the output layer which is the overall prediction of the MLP.\n",
    "    #              @parameters: inputs\n",
    "    def forward_step(self, inputs): \n",
    "        activations_hidden_layer = np.empty(self._size_hidden_layer)\n",
    "        for i in range(len(activations_hidden_layer)):\n",
    "            activations_hidden_layer[i] = self._hidden_layer[i].forward_step(inputs)\n",
    "            \n",
    "        prediction = self._output_layer.forward_step(activations_hidden_layer)\n",
    "        return prediction\n",
    " \n",
    "\n",
    "    # Description: This function conducts the backpropagation of the MLP. \n",
    "    #              Therefore it computes the delta of the output layer and the deltas of the perceptrons \n",
    "    #              in the hidden layer. Afterwards it updates every perceptron of the MLP.\n",
    "    #              @parameters: derivative_loss\n",
    "    def backprop_step(self, derivative_loss):\n",
    "        delta_output_layer = derivative_loss * sigmoidprime(self._output_layer._get_drive())\n",
    "        \n",
    "        # Computes firstly the derivative for every weight which comes from the hidden layer and ends in the \n",
    "        # output layer and secondly based on that the deltas of the perceptrons in the hidden layer.\n",
    "        derivatives_weights_hl_ol = delta_output_layer * self._output_layer._get_weights()\n",
    "        deltas_hidden_layer = np.empty(self._size_hidden_layer)\n",
    "        for i in range(len(deltas_hidden_layer)):             \n",
    "            deltas_hidden_layer[i] = derivatives_weights_hl_ol[i] * sigmoidprime(self._hidden_layer[i]._get_drive())\n",
    "        \n",
    "        self._output_layer.update(delta_output_layer) \n",
    "        \n",
    "        # Updates the hidden layer in a seperate for-loop to keep chronological order of backpropagation.\n",
    "        for i in range(len(self._hidden_layer)):\n",
    "            self._hidden_layer[i].update(deltas_hidden_layer[i])"
   ]
  },
  {
   "cell_type": "markdown",
   "metadata": {},
   "source": [
    "# 5: Training"
   ]
  },
  {
   "cell_type": "code",
   "execution_count": 32,
   "metadata": {},
   "outputs": [],
   "source": [
    "# Description: The following steps create and train a MLP with a hidden layer consisting of 4 perceptrons.\n",
    "#              The logical gate which should be learned is chosen by defining the target array.\n",
    "#              A training loop trains the MLP and determines it's accuracy and loss.\n",
    "\n",
    "target = target_and    \n",
    "\n",
    "size_hidden_layer = 4\n",
    "n_inputs_per_training_step = 2\n",
    "logical_gate = MLP(n_inputs_per_training_step, size_hidden_layer)\n",
    "\n",
    "amount_of_training_epochs = 1000\n",
    "\n",
    "steps = np.empty(amount_of_training_epochs)\n",
    "average_accuracy_each_epoch = np.empty(amount_of_training_epochs)\n",
    "average_loss_each_epoch = np.empty(amount_of_training_epochs)\n",
    "\n",
    "# Training Loop:\n",
    "for epoch in range(amount_of_training_epochs):\n",
    "    steps[epoch] = epoch\n",
    "    correct_predictions_current_epoch = 0\n",
    "    loss_current_epoch = 0\n",
    "    \n",
    "    for i in range(len(inputs)):\n",
    "        prediction = logical_gate.forward_step(inputs[i])\n",
    "    \n",
    "        # Increments the correct predictions count if prediction is correct.\n",
    "        if (prediction <= 0.5 and target[i] == 0) or (prediction > 0.5 and target[i] == 1):\n",
    "            correct_predictions_current_epoch += 1\n",
    "    \n",
    "        # Computes the loss and conducts backpropagation.\n",
    "        loss_current_epoch += np.square(target[i] - prediction)    \n",
    "        derivative_loss = -2 * (target[i] - prediction)\n",
    "    \n",
    "        logical_gate.backprop_step(derivative_loss)\n",
    "    \n",
    "    # Updates accuracy and loss arrays.\n",
    "    average_accuracy_each_epoch[epoch] = correct_predictions_current_epoch / len(inputs)\n",
    "    average_loss_each_epoch[epoch] = loss_current_epoch / len(inputs) "
   ]
  },
  {
   "cell_type": "markdown",
   "metadata": {},
   "source": [
    "# 6: Visualization"
   ]
  },
  {
   "cell_type": "code",
   "execution_count": 33,
   "metadata": {},
   "outputs": [
    {
     "data": {
      "image/png": "[encoded data removed]",
      "text/plain": [
       "<Figure size 432x288 with 1 Axes>"
      ]
     },
     "metadata": {
      "needs_background": "light"
     },
     "output_type": "display_data"
    },
    {
     "data": {
      "image/png": "[encoded data removed]",
      "text/plain": [
       "<Figure size 432x288 with 1 Axes>"
      ]
     },
     "metadata": {
      "needs_background": "light"
     },
     "output_type": "display_data"
    }
   ],
   "source": [
    "# Description: Figure 1 shows the average loss during the training.\n",
    "#              Figure 2 shows the average accuracy during the training.\n",
    "\n",
    "import matplotlib.pyplot as plt\n",
    "\n",
    "plt.figure()\n",
    "plt.plot(steps, average_loss_each_epoch)\n",
    "plt.xlabel(\"Training Steps\")\n",
    "plt.ylabel(\"Loss\")\n",
    "plt.ylim([-0.1, 1.2])\n",
    "plt.show()\n",
    "\n",
    "plt.figure()\n",
    "plt.plot(steps, average_accuracy_each_epoch)\n",
    "plt.xlabel(\"Training Steps\")\n",
    "plt.ylabel(\"Accuracy\")\n",
    "plt.ylim([-0.1, 1.2])\n",
    "plt.show()"
   ]
  }
 ],
 "metadata": {
  "kernelspec": {
   "display_name": "Python 3",
   "language": "python",
   "name": "python3"
  },
  "language_info": {
   "codemirror_mode": {
    "name": "ipython",
    "version": 3
   },
   "file_extension": ".py",
   "mimetype": "text/x-python",
   "name": "python",
   "nbconvert_exporter": "python",
   "pygments_lexer": "ipython3",
   "version": "3.7.8"
  }
 },
 "nbformat": 4,
 "nbformat_minor": 4
}
