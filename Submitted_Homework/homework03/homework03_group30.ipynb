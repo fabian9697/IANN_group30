{
  "nbformat": 4,
  "nbformat_minor": 0,
  "metadata": {
    "colab": {
      "name": "homework03_FI.ipynb",
      "provenance": [],
      "collapsed_sections": []
    },
    "kernelspec": {
      "display_name": "Python 3",
      "name": "python3"
    },
    "accelerator": "GPU"
  },
  "cells": [
    {
      "cell_type": "markdown",
      "metadata": {
        "id": "dnFBbvYOYVTp"
      },
      "source": [
        "**Initialization**"
      ]
    },
    {
      "cell_type": "code",
      "metadata": {
        "id": "L27sqsWwpU3c"
      },
      "source": [
        "import numpy as np\n",
        "\n",
        "%tensorflow_version 2.x\n",
        "import tensorflow as tf\n",
        "import tensorflow_datasets as tfds\n",
        "\n",
        "import matplotlib.pyplot as plt"
      ],
      "execution_count": 12,
      "outputs": []
    },
    {
      "cell_type": "markdown",
      "metadata": {
        "id": "i6Mi7FOMYtFQ"
      },
      "source": [
        "**Task 1: Data set**\n"
      ]
    },
    {
      "cell_type": "code",
      "metadata": {
        "id": "yoSW8IgXv7qs"
      },
      "source": [
        "# Description: Function to convert the string tensor into a usable tensor that contains the one-hot-encoded sequence \n",
        "#              (4 digits for each letter (250 letters per input) -> all in all 1000 input nodes).\n",
        "#              @parameters: string_tensor\n",
        "#              @returns: one_hot_enc_vector\n",
        "def onehotify(string_tensor):\n",
        "  vocab = {'A':'1', 'C': '2', 'G':'3', 'T':'0'}\n",
        "  for key in vocab.keys():\n",
        "    string_tensor = tf.strings.regex_replace(string_tensor, key, vocab[key])\n",
        "  split = tf.strings.bytes_split(string_tensor)\n",
        "  labels = tf.cast(tf.strings.to_number(split), tf.uint8)\n",
        "  one_hot_enc_vector = tf.one_hot(labels, 4)\n",
        "  one_hot_enc_vector = tf.reshape(one_hot_enc_vector, (-1,))\n",
        "  return one_hot_enc_vector"
      ],
      "execution_count": 14,
      "outputs": []
    },
    {
      "cell_type": "code",
      "metadata": {
        "id": "vdlhLHYTdfMc"
      },
      "source": [
        "# Description: In this part the training- (100.000 examples) and test data (1.000 examples) is downloaded as two seperated tensorflow datasets.\n",
        "#              These have a 2-tuple structure (input, target). In the next steps the data is prepared. Therefore the map-function is used to apply the \n",
        "#              \"convertion-functions\", which return the inputs and targets as one-hot-encoded sequenzes, to each single element in the datasets. \n",
        "#              Additionally, the originally two datasets are separated into inputs and targets datasets each. Afterwards, the separated datasets for \n",
        "#              inputs and targets are merged again into one training- and one test dataset. Lastly, these datasets are batched and prefetched.\n",
        "batch_size = 100\n",
        "\n",
        "training_data, test_data = tfds.load('genomics_ood', split = ['train[:100000]', 'test[:1000]'], as_supervised = True)\n",
        "\n",
        "\n",
        "training_dataset_inputs = training_data.map(lambda inputs, targets: onehotify(inputs))\n",
        "training_dataset_targets = training_data.map(lambda inputs, targets: tf.one_hot(targets, 10))\n",
        "\n",
        "test_dataset_inputs = test_data.map(lambda inputs, targets: onehotify(inputs))\n",
        "test_dataset_targets = test_data.map(lambda inputs, targets: tf.one_hot(targets, 10))\n",
        "\n",
        "\n",
        "training_dataset = tf.data.Dataset.zip((training_dataset_inputs, training_dataset_targets))\n",
        "training_dataset = training_dataset.batch(batch_size).prefetch(2)\n",
        "\n",
        "test_dataset = tf.data.Dataset.zip((test_dataset_inputs, test_dataset_targets))\n",
        "test_dataset = test_dataset.batch(batch_size).prefetch(2)     "
      ],
      "execution_count": 16,
      "outputs": []
    },
    {
      "cell_type": "markdown",
      "metadata": {
        "id": "MIWuGW0OY4WW"
      },
      "source": [
        "**Task 2: Model**"
      ]
    },
    {
      "cell_type": "code",
      "metadata": {
        "id": "eLa1-HcxOv3v"
      },
      "source": [
        "from tensorflow.keras import Model\n",
        "from tensorflow.keras.layers import Layer\n",
        "\n",
        "# Description: The class Model describes a multi-layer perceptron with two hidden layers and one output layer.\n",
        "#              @class variables: -\n",
        "#              @object variables: hidden_layer_1, hidden_layer_2, output_layer\n",
        "#              @functions: call\n",
        "class Model(Model): \n",
        "    \n",
        "    def __init__(self):\n",
        "        super(Model, self).__init__()\n",
        "        self.hidden_layer_1 = tf.keras.layers.Dense(units=256, activation=tf.keras.activations.sigmoid)\n",
        "        self.hidden_layer_2 = tf.keras.layers.Dense(units=256, activation=tf.keras.activations.sigmoid)\n",
        "        self.output_layer = tf.keras.layers.Dense(units=10, activation=tf.keras.activations.softmax)\n",
        "\n",
        "\n",
        "    # Description: This function conducts one forward-step of the model. \n",
        "    #              A python decorator (@tf.function) is used to bundle multiple computations into one computational graph.\n",
        "    #              @parameters: input\n",
        "    #              @returns: prediction\n",
        "    @tf.function\n",
        "    def call(self, input):\n",
        "        activ_hidden_1 = self.hidden_layer_1(input)\n",
        "        activ_hidden_2 = self.hidden_layer_2(activ_hidden_1)\n",
        "        prediction = self.output_layer(activ_hidden_2)\n",
        "        return prediction"
      ],
      "execution_count": 17,
      "outputs": []
    },
    {
      "cell_type": "markdown",
      "metadata": {
        "id": "s5XUsOIdY9-r"
      },
      "source": [
        "**Task 3: Training**"
      ]
    },
    {
      "cell_type": "code",
      "metadata": {
        "id": "UYf3qvc8lYfS"
      },
      "source": [
        "# Description: This function trains an object of the class Model. It conducts a forward-step and the backpropagation \n",
        "#              throughout the network. Additionally, it determines the average training loss and accuracy.\n",
        "#              @parameters: mlp, training_data, loss_fn, optimizer\n",
        "#              @returns: training_loss, training_accuracy\n",
        "def training_step(mlp, training_data, loss_fn, optimizer):\n",
        "  training_losses = []\n",
        "  training_accuracies = []\n",
        "\n",
        "  for (input, target) in training_data:\n",
        "    with tf.GradientTape() as tape:\n",
        "      prediction = mlp(input)\n",
        "      current_training_loss = loss_fn(target, prediction)\n",
        "      gradients = tape.gradient(current_training_loss, mlp.trainable_variables)\n",
        "      optimizer.apply_gradients(zip(gradients, mlp.trainable_variables))\n",
        "\n",
        "    training_losses.append(current_training_loss.numpy())\n",
        "\n",
        "    current_training_accuracy = np.argmax(target, axis=1) == np.argmax(prediction, axis=1)\n",
        "    training_accuracies.append(np.mean(current_training_accuracy))   \n",
        "  \n",
        "  training_loss = np.mean(training_losses)\n",
        "  training_accuracy = np.mean(training_accuracies)\n",
        "  return training_loss, training_accuracy\n",
        "\n",
        "\n",
        "# Description: This function determines the average test loss and accuracy of an object of the class Model.\n",
        "#              @parameters: mlp, test_data, loss_fn\n",
        "#              @returns: test_loss, test_accuracy\n",
        "def test(mlp, test_data, loss_fn):\n",
        "  test_losses = []\n",
        "  test_accuracies = []\n",
        "\n",
        "  for (input, target) in test_data:\n",
        "    prediction = mlp(input)\n",
        "    \n",
        "    current_test_loss = loss_fn(target, prediction)\n",
        "    test_losses.append(current_test_loss.numpy())\n",
        "\n",
        "    current_test_accuracy = np.argmax(target, axis=1) == np.argmax(prediction, axis=1)\n",
        "    test_accuracies.append(np.mean(current_test_accuracy))   \n",
        "    \n",
        "  test_loss = np.mean(test_losses)\n",
        "  test_accuracy = np.mean(test_accuracies)\n",
        "  return test_loss, test_accuracy"
      ],
      "execution_count": 18,
      "outputs": []
    },
    {
      "cell_type": "code",
      "metadata": {
        "id": "909WGbX4YDeX",
        "colab": {
          "base_uri": "https://localhost:8080/"
        },
        "outputId": "f1a7132f-6b3c-44af-8748-8d80512f91a3"
      },
      "source": [
        "# Description: This part creates an object of the class Model called mlp and executes the training and testing of the mlp in the training and test loop. The training \n",
        "#              takes place over an amount of epochs (n_epochs) with a predefined learning rate. The loss function defines the kind of loss-calculation. The optimizer \n",
        "#              is needed to adjust the gradients in the training steps. Moreover, the data for the visualization of the training and test progress is collected.\n",
        "tf.keras.backend.clear_session()\n",
        "\n",
        "mlp = Model()\n",
        "n_epochs = 10\n",
        "learning_rate = 0.1\n",
        "loss_fn = tf.keras.losses.CategoricalCrossentropy()\n",
        "optimizer = tf.keras.optimizers.SGD(learning_rate)    # SGD = Standard Gradient Descent\n",
        "\n",
        "training_losses = []\n",
        "training_accuracies = []\n",
        "test_losses = []\n",
        "test_accuracies = []\n",
        "\n",
        "# Training and test loop\n",
        "for epoch in range(n_epochs):\n",
        "    print('Epoch ' + str(epoch))\n",
        "\n",
        "    # Shuffles the datasets in each epoch to ensure that the order of the inputs is always changed.\n",
        "    training_dataset = training_dataset.shuffle(buffer_size = batch_size)\n",
        "    test_dataset = test_dataset.shuffle(buffer_size = batch_size)\n",
        "\n",
        "    training_loss, training_accuracy = training_step(mlp, training_dataset, loss_fn, optimizer)\n",
        "    training_losses.append(training_loss)\n",
        "    training_accuracies.append(training_accuracy)\n",
        "\n",
        "    test_loss, test_accuracy = test(mlp, test_dataset, loss_fn)\n",
        "    test_losses.append(test_loss)\n",
        "    test_accuracies.append(test_accuracy)"
      ],
      "execution_count": 20,
      "outputs": [
        {
          "output_type": "stream",
          "text": [
            "Epoch 0\n",
            "Epoch 1\n",
            "Epoch 2\n",
            "Epoch 3\n",
            "Epoch 4\n",
            "Epoch 5\n",
            "Epoch 6\n",
            "Epoch 7\n",
            "Epoch 8\n",
            "Epoch 9\n"
          ],
          "name": "stdout"
        }
      ]
    },
    {
      "cell_type": "markdown",
      "metadata": {
        "id": "lh97kchdq-zg"
      },
      "source": [
        "**Task 4: Visualization**"
      ]
    },
    {
      "cell_type": "code",
      "metadata": {
        "id": "nXiCHpgefQbB",
        "colab": {
          "base_uri": "https://localhost:8080/",
          "height": 541
        },
        "outputId": "c9001601-2204-4a17-d1e3-34e22059caf8"
      },
      "source": [
        "# Description: Figure 1 shows the loss for each epoch during the training and testing of the mlp.\n",
        "#              Figure 2 shows the accuracy for each epoch during the training and testing of the mlp.\n",
        "plt.figure()\n",
        "line1, = plt.plot(training_losses)\n",
        "line2, = plt.plot(test_losses)\n",
        "plt.xlabel(\"Training steps\")\n",
        "plt.ylabel(\"Loss\")\n",
        "plt.legend((line1, line2),(\"Training\", \"Test\"))\n",
        "plt.show()\n",
        "\n",
        "plt.figure()\n",
        "line1, = plt.plot(training_accuracies)\n",
        "line2, = plt.plot(test_accuracies)\n",
        "plt.xlabel(\"Training steps\")\n",
        "plt.ylabel(\"Accuracy\")\n",
        "plt.legend((line1, line2),(\"Training\", \"Test\"))\n",
        "plt.show()"
      ],
      "execution_count": 21,
      "outputs": [
        {
          "output_type": "display_data",
          "data": {
            "image/png": "[encoded data removed]",
            "text/plain": [
              "<Figure size 432x288 with 1 Axes>"
            ]
          },
          "metadata": {
            "tags": [],
            "needs_background": "light"
          }
        },
        {
          "output_type": "display_data",
          "data": {
            "image/png": "[encoded data removed]",
            "text/plain": [
              "<Figure size 432x288 with 1 Axes>"
            ]
          },
          "metadata": {
            "tags": [],
            "needs_background": "light"
          }
        }
      ]
    }
  ]
}