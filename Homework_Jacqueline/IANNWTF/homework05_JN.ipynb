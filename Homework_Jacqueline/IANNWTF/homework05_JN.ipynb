{
  "nbformat": 4,
  "nbformat_minor": 0,
  "metadata": {
    "colab": {
      "name": "homework05_JN.ipynb",
      "provenance": [],
      "collapsed_sections": []
    },
    "kernelspec": {
      "display_name": "Python 3",
      "name": "python3"
    },
    "accelerator": "GPU"
  },
  "cells": [
    {
      "cell_type": "markdown",
      "metadata": {
        "id": "FBZVkfNzIk-I"
      },
      "source": [
        "**Initialization**"
      ]
    },
    {
      "cell_type": "code",
      "metadata": {
        "id": "MA9JiLNdIWW2"
      },
      "source": [
        "import numpy as np\n",
        "\n",
        "%tensorflow_version 2.x\n",
        "import tensorflow as tf\n",
        "\n",
        "import matplotlib.pyplot as plt"
      ],
      "execution_count": 1,
      "outputs": []
    },
    {
      "cell_type": "markdown",
      "metadata": {
        "id": "Sger5hN76j7D"
      },
      "source": [
        "**Task 1: Data set**\n",
        "\n",
        "The dataset comes directly in a two split dataset for test and train data. The test dataset has 10000 images, the train dataset is coming with 50000 images. The images in the data have a shape of 32 x 32 x 3 and do not need to be resized in any way."
      ]
    },
    {
      "cell_type": "code",
      "metadata": {
        "id": "i6F73u6zIo8W",
        "colab": {
          "base_uri": "https://localhost:8080/"
        },
        "outputId": "915ed28b-c14b-445d-e15d-f0b592157229"
      },
      "source": [
        "# INPUT PIPELINE\n",
        "\n",
        "batch_size = 32\n",
        "prefetch_size = 16\n",
        "\n",
        "# Step 1: Load the data itself.\n",
        "(train_input, train_labels), (test_input, test_labels) = tf.keras.datasets.cifar10.load_data()\n",
        "\n",
        "\n",
        "# Step 2: Create datasets from input images for test and train data standardize it and change the dtype of the images to tf.float32, because needed for the model.\n",
        "train_dataset_images = tf.data.Dataset.from_tensor_slices(train_input)\n",
        "train_dataset_images = train_dataset_images.map(lambda img: tf.image.per_image_standardization(img))\n",
        "train_dataset_images = train_dataset_images.map(lambda img: tf.dtypes.cast(img, tf.float32))\n",
        "\n",
        "test_dataset_images = tf.data.Dataset.from_tensor_slices(test_input)\n",
        "test_dataset_images = test_dataset_images.map(lambda img: tf.image.per_image_standardization(img))\n",
        "test_dataset_images = test_dataset_images.map(lambda img: tf.dtypes.cast(img, tf.float32))\n",
        "\n",
        "\n",
        "# Step 3: Create datasets for targets using the labels and one-hot encoded targets for 10 possible labels for test and train data \n",
        "train_dataset_targets = tf.data.Dataset.from_tensor_slices(train_labels)\n",
        "train_dataset_targets = train_dataset_targets.map(lambda tar: tf.one_hot(tar, 10))\n",
        "\n",
        "test_dataset_targets = tf.data.Dataset.from_tensor_slices(test_labels)\n",
        "test_dataset_targets = test_dataset_targets.map(lambda tar: tf.one_hot(tar, 10))\n",
        "\n",
        "\n",
        "# Step 4: Zip dataset images and targets together for train and test data\n",
        "train_dataset = tf.data.Dataset.zip((train_dataset_images, train_dataset_targets))\n",
        "train_dataset = train_dataset.batch(batch_size)\n",
        "train_dataset = train_dataset.shuffle(buffer_size = batch_size)\n",
        "train_dataset = train_dataset.prefetch(prefetch_size)\n",
        "\n",
        "test_dataset = tf.data.Dataset.zip((test_dataset_images, test_dataset_targets))\n",
        "test_dataset = test_dataset.batch(batch_size)\n",
        "test_dataset = test_dataset.shuffle(buffer_size = batch_size)\n",
        "test_dataset = test_dataset.prefetch(prefetch_size)   \n",
        "\n"
      ],
      "execution_count": 2,
      "outputs": [
        {
          "output_type": "stream",
          "text": [
            "Downloading data from https://www.cs.toronto.edu/~kriz/cifar-10-python.tar.gz\n",
            "170500096/170498071 [==============================] - 6s 0us/step\n"
          ],
          "name": "stdout"
        }
      ]
    },
    {
      "cell_type": "code",
      "metadata": {
        "id": "8rn8CmM9pwCz"
      },
      "source": [
        "# Description: The function return the label as a spelling context and not a number anymore. Just useful for diplaying the images with its labels.\n",
        "#              @parameters: label\n",
        "#              @returns: spelling_label\n",
        "\n",
        "def get_spelling_context(label):\n",
        "  if(label == 0):\n",
        "    spelling_label = \"Airplane\"\n",
        "  \n",
        "  if(label == 1):\n",
        "    spelling_label = \"Automobile\"\n",
        "  \n",
        "  if(label == 2):\n",
        "    spelling_label = \"Bird\"\n",
        "  \n",
        "  if(label == 3):\n",
        "    spelling_label = \"Cat\"\n",
        "  \n",
        "  if(label == 4):\n",
        "    spelling_label = \"Deer\"\n",
        "  \n",
        "  if(label == 5):\n",
        "    spelling_label = \"Dog\"\n",
        "  \n",
        "  if(label == 6):\n",
        "    spelling_label = \"Frog\"\n",
        "  \n",
        "  if(label == 7):\n",
        "    spelling_label = \"Horse\"\n",
        "\n",
        "  if(label == 8):\n",
        "    spelling_label = \"Ship\"\n",
        "\n",
        "  if(label == 9):\n",
        "    spelling_label = \"Truck\"\n",
        "  \n",
        "  return spelling_label"
      ],
      "execution_count": 3,
      "outputs": []
    },
    {
      "cell_type": "code",
      "metadata": {
        "colab": {
          "base_uri": "https://localhost:8080/",
          "height": 57
        },
        "id": "74BFzJCBn3lr",
        "outputId": "77e0dff7-bd2c-401e-d0f1-c1dfc835ae2e"
      },
      "source": [
        "# This part visualizes 10 random pictures with its labels from the train dataset.\n",
        "\n",
        "data_index = np.random.randint(0, high = len(train_input), size = 10)\n",
        "\n",
        "fig, ax = plt.subplots(1,10)\n",
        "img_number = 0\n",
        "for i in range(max(data_index)+1):\n",
        "  if(np.any(data_index == i)):\n",
        "    img = train_input[i]\n",
        "    lbl = get_spelling_context(train_labels[i])\n",
        "\n",
        "    ax[img_number].imshow(img)\n",
        "    ax[img_number].set_title(lbl)\n",
        "    ax[img_number].axis(\"off\")\n",
        "        \n",
        "    img_number += 1\n",
        "\n",
        "fig.tight_layout()\n",
        "plt.show()"
      ],
      "execution_count": 4,
      "outputs": [
        {
          "output_type": "display_data",
          "data": {
            "image/png": "[encoded data removed]",
            "text/plain": [
              "<Figure size 432x288 with 10 Axes>"
            ]
          },
          "metadata": {
            "tags": [],
            "needs_background": "light"
          }
        }
      ]
    },
    {
      "cell_type": "markdown",
      "metadata": {
        "id": "3sA0V7i9-gQb"
      },
      "source": [
        "**Task 2: Model**"
      ]
    },
    {
      "cell_type": "code",
      "metadata": {
        "id": "K8gMfRtH-lB_"
      },
      "source": [
        "from tensorflow.keras import Model\n",
        "from tensorflow.keras.layers import Layer\n",
        "\n",
        "# Description: The class Model describes a convolutional neural network with a feature extractor and \n",
        "#              a classifier.\n",
        "#              @class variables: -\n",
        "#              @object variables: conv_1, max_pool_1, conv_2, max_pool_2, conv_3, max_pool_3, \n",
        "#                                 global_pool, output\n",
        "#              @functions: call\n",
        "class Model(Model): \n",
        "  \n",
        "    def __init__(self):\n",
        "        super(Model, self).__init__()\n",
        "\n",
        "        # Feature extractor\n",
        "        self.conv_1 = tf.keras.layers.Conv2D(filters=100, kernel_size=3, activation=tf.keras.activations.relu, input_shape=(32, 32, 3))\n",
        "        self.max_pool_1 = tf.keras.layers.MaxPool2D()\n",
        "        self.conv_2 = tf.keras.layers.Conv2D(filters=100, kernel_size=3, activation=tf.keras.activations.tanh)\n",
        "        self.max_pool_2 = tf.keras.layers.MaxPool2D()\n",
        "        self.conv_3 = tf.keras.layers.Conv2D(filters=100, kernel_size=3, activation=tf.keras.activations.relu)\n",
        "        self.max_pool_3 = tf.keras.layers.MaxPool2D()\n",
        "\n",
        "        # Classifier\n",
        "        self.global_pool = tf.keras.layers.GlobalAveragePooling2D()\n",
        "        self.output_layer = tf.keras.layers.Dense(10, activation=tf.keras.activations.softmax)\n",
        "\n",
        "\n",
        "    # Description: This function conducts one forward-step of the model. \n",
        "    #              A python decorator (@tf.function) is used to bundle multiple computations into one computational graph.\n",
        "    #              @parameters: (input) x\n",
        "    #              @returns: (prediction) x\n",
        "    @tf.function\n",
        "    def call(self, x):\n",
        "        x = self.conv_1(x)\n",
        "        x = self.max_pool_1(x)\n",
        "        x = self.conv_2(x)\n",
        "        x = self.max_pool_2(x)\n",
        "        x = self.conv_3(x)\n",
        "        x = self.max_pool_3(x)\n",
        "\n",
        "        x = self.global_pool(x)\n",
        "        x = self.output_layer(x)\n",
        "        return x"
      ],
      "execution_count": 5,
      "outputs": []
    },
    {
      "cell_type": "markdown",
      "metadata": {
        "id": "7vIQGZNoUxNe"
      },
      "source": [
        "**Task 3: Training**"
      ]
    },
    {
      "cell_type": "code",
      "metadata": {
        "id": "RoJMeeq0U1N0"
      },
      "source": [
        "# Description: This function trains an object of the class Model. It conducts a forward-step and the backpropagation \n",
        "#              throughout the network. Additionally, it determines the average training loss and accuracy.\n",
        "#              @parameters: model, training_data, loss_fn, optimizer\n",
        "#              @returns: training_loss, training_accuracy\n",
        "def training_step(model, training_data, loss_fn, optimizer):\n",
        "  training_losses = []\n",
        "  training_accuracies = []\n",
        "\n",
        "  for (input, target) in training_data:\n",
        "    with tf.GradientTape() as tape:\n",
        "      prediction = model(input)\n",
        "      current_training_loss = loss_fn(target, prediction)\n",
        "      gradients = tape.gradient(current_training_loss, model.trainable_variables)\n",
        "    optimizer.apply_gradients(zip(gradients, model.trainable_variables))\n",
        "\n",
        "    training_losses.append(current_training_loss.numpy())\n",
        "\n",
        "    current_training_accuracy = np.argmax(target, axis=1) == np.argmax(prediction, axis=1)\n",
        "    training_accuracies.append(np.mean(current_training_accuracy))   \n",
        "  \n",
        "  training_loss = np.mean(training_losses)\n",
        "  training_accuracy = np.mean(training_accuracies)\n",
        "  return training_loss, training_accuracy\n",
        "\n",
        "\n",
        "# Description: This function determines the average test loss and accuracy of an object of the class Model.\n",
        "#              @parameters: model, test_data, loss_fn\n",
        "#              @returns: test_loss, test_accuracy\n",
        "def test(model, test_data, loss_fn):\n",
        "  test_losses = []\n",
        "  test_accuracies = []\n",
        "\n",
        "  for (input, target) in test_data:\n",
        "    prediction = model(input)\n",
        "    \n",
        "    current_test_loss = loss_fn(target, prediction)\n",
        "    test_losses.append(current_test_loss.numpy())\n",
        "\n",
        "    current_test_accuracy = np.argmax(target, axis=1) == np.argmax(prediction, axis=1)\n",
        "    test_accuracies.append(np.mean(current_test_accuracy))   \n",
        "    \n",
        "  test_loss = np.mean(test_losses)\n",
        "  test_accuracy = np.mean(test_accuracies)\n",
        "  return test_loss, test_accuracy"
      ],
      "execution_count": 6,
      "outputs": []
    },
    {
      "cell_type": "code",
      "metadata": {
        "colab": {
          "base_uri": "https://localhost:8080/",
          "height": 1000
        },
        "id": "nrprsVmdVSor",
        "outputId": "d93c5640-02be-4c62-dc92-774cbe09f51c"
      },
      "source": [
        "# Description: This part creates an object of the class Model called model and executes the training and testing of the model in the training and test loop. The training \n",
        "#              takes place over an amount of epochs (n_epochs) with a predefined learning rate. The loss function defines the kind of loss-calculation. The optimizer \n",
        "#              is needed to adjust the gradients in the training steps. Moreover, the data for the visualization of the training and test progress is collected.\n",
        "tf.keras.backend.clear_session()\n",
        "\n",
        "model = Model()\n",
        "n_epochs = 20\n",
        "learning_rate = 0.00008\n",
        "loss_fn = tf.keras.losses.BinaryCrossentropy()\n",
        "optimizer = tf.keras.optimizers.Adam(learning_rate, amsgrad=True)    # Adam = Adaptive Moment Estimation\n",
        "\n",
        "training_losses = []\n",
        "training_accuracies = []\n",
        "test_losses = []\n",
        "test_accuracies = []\n",
        "\n",
        "# Training and test loop\n",
        "for epoch in range(n_epochs):\n",
        "    print('Epoch ' + str(epoch))\n",
        "\n",
        "\n",
        "    training_loss, training_accuracy = training_step(model, train_dataset, loss_fn, optimizer)\n",
        "    training_losses.append(training_loss)\n",
        "    training_accuracies.append(training_accuracy)\n",
        "\n",
        "    test_loss, test_accuracy = test(model, test_dataset, loss_fn)\n",
        "    test_losses.append(test_loss)\n",
        "    test_accuracies.append(test_accuracy)\n",
        "\n",
        "    # Visualization while training to check how the network is doing\n",
        "    plt.figure()\n",
        "    line1, = plt.plot(training_losses)\n",
        "    line2, = plt.plot(test_losses)\n",
        "    plt.xlabel(\"Training steps\")\n",
        "    plt.ylabel(\"Loss\")\n",
        "    plt.legend((line1, line2),(\"Training\", \"Test\"))\n",
        "    plt.show()\n",
        "\n",
        "    plt.figure()\n",
        "    line1, = plt.plot(training_accuracies)\n",
        "    line2, = plt.plot(test_accuracies)\n",
        "    plt.xlabel(\"Training steps\")\n",
        "    plt.ylabel(\"Accuracy\")\n",
        "    plt.legend((line1, line2),(\"Training\", \"Test\"))\n",
        "    plt.show()"
      ],
      "execution_count": null,
      "outputs": [
        {
          "output_type": "stream",
          "text": [
            "Epoch 0\n"
          ],
          "name": "stdout"
        },
        {
          "output_type": "stream",
          "text": [
            "/usr/local/lib/python3.6/dist-packages/ipykernel_launcher.py:18: DeprecationWarning: elementwise comparison failed; this will raise an error in the future.\n",
            "/usr/local/lib/python3.6/dist-packages/ipykernel_launcher.py:39: DeprecationWarning: elementwise comparison failed; this will raise an error in the future.\n"
          ],
          "name": "stderr"
        },
        {
          "output_type": "display_data",
          "data": {
            "image/png": "[encoded data removed]",
            "text/plain": [
              "<Figure size 432x288 with 1 Axes>"
            ]
          },
          "metadata": {
            "tags": [],
            "needs_background": "light"
          }
        },
        {
          "output_type": "display_data",
          "data": {
            "image/png": "[encoded data removed]",
            "text/plain": [
              "<Figure size 432x288 with 1 Axes>"
            ]
          },
          "metadata": {
            "tags": [],
            "needs_background": "light"
          }
        },
        {
          "output_type": "stream",
          "text": [
            "Epoch 1\n"
          ],
          "name": "stdout"
        },
        {
          "output_type": "display_data",
          "data": {
            "image/png": "[encoded data removed]",
            "text/plain": [
              "<Figure size 432x288 with 1 Axes>"
            ]
          },
          "metadata": {
            "tags": [],
            "needs_background": "light"
          }
        },
        {
          "output_type": "display_data",
          "data": {
            "image/png": "[encoded data removed]",
            "text/plain": [
              "<Figure size 432x288 with 1 Axes>"
            ]
          },
          "metadata": {
            "tags": [],
            "needs_background": "light"
          }
        },
        {
          "output_type": "stream",
          "text": [
            "Epoch 2\n"
          ],
          "name": "stdout"
        }
      ]
    },
    {
      "cell_type": "markdown",
      "metadata": {
        "id": "PBGANjYnWQoT"
      },
      "source": [
        "**Task 4: Visualization**\n",
        "\n"
      ]
    },
    {
      "cell_type": "code",
      "metadata": {
        "id": "-h86YtTxWWh-"
      },
      "source": [
        "# Description: Figure 1 shows the loss for each epoch during the training and testing of the model.\n",
        "#              Figure 2 shows the accuracy for each epoch during the training and testing of the model.\n",
        "plt.figure()\n",
        "line1, = plt.plot(training_losses)\n",
        "line2, = plt.plot(test_losses)\n",
        "plt.xlabel(\"Training steps\")\n",
        "plt.ylabel(\"Loss\")\n",
        "plt.legend((line1, line2),(\"Training\", \"Test\"))\n",
        "plt.show()\n",
        "\n",
        "plt.figure()\n",
        "line1, = plt.plot(training_accuracies)\n",
        "line2, = plt.plot(test_accuracies)\n",
        "plt.xlabel(\"Training steps\")\n",
        "plt.ylabel(\"Accuracy\")\n",
        "plt.legend((line1, line2),(\"Training\", \"Test\"))\n",
        "plt.show()\n",
        "\n",
        "for n, i in enumerate(test_accuracies):\n",
        "   print(str(n) +\": \" + str(i))"
      ],
      "execution_count": null,
      "outputs": []
    }
  ]
}