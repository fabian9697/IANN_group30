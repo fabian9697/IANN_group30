{
 "cells": [
  {
   "cell_type": "markdown",
   "metadata": {},
   "source": [
    "# 1 and 2: Preparation and Data Set"
   ]
  },
  {
   "cell_type": "code",
   "execution_count": 21,
   "metadata": {},
   "outputs": [],
   "source": [
    "# Task 2: Data Set\n",
    "# Description: An array of possible binary inputs is defined as x. \n",
    "#              Moreover the targets, t, for the logical gates: and, or, not and, not or and exclusive or (xor) are defined.\n",
    "#              Additionally, functions for the activation function (sigmoid) and its derivative (sigmoidprime) is written down here, \n",
    "#              so you could easily change it to different functions if necessary.\n",
    "\n",
    "import numpy as np \n",
    "\n",
    "inputs = np.array([[0,0],[0,1],[1,0],[1,1]])\n",
    "\n",
    "target_and = np.array([0,0,0,1])\n",
    "target_or = np.array([0,1,1,1])\n",
    "target_nand = np.array([1,1,1,0])\n",
    "target_nor = np.array([1,0,0,0])\n",
    "target_xor = np.array([0,1,1,0])\n",
    "\n",
    "\n",
    "def sigmoid(x): \n",
    "    return (1 / (1 + np.exp(-x)))\n",
    "\n",
    "\n",
    "def sigmoidprime(x):\n",
    "    return (sigmoid(x) * (1 - sigmoid(x)))"
   ]
  },
  {
   "cell_type": "markdown",
   "metadata": {},
   "source": [
    "# 3: Perceptron class"
   ]
  },
  {
   "cell_type": "code",
   "execution_count": 22,
   "metadata": {},
   "outputs": [],
   "source": [
    "# Task 3: Perceptron\n",
    "# Description: The class Perceptron describes the behavior of a single neuron, there fore it includes:\n",
    "#              @init variables: input_units\n",
    "#              @class variables: -\n",
    "#              @object variables: _input_units, _weights, _bias, _alpha, _drive, _activations_previous_layer\n",
    "#              @functions: forward_step, update, _get_drive, _get_weights\n",
    "\n",
    "class Perceptron:\n",
    "    \n",
    "    def __init__(self, input_units):\n",
    "        self._input_units = input_units\n",
    "        self._weights = np.random.randn(input_units)\n",
    "        self._bias = np.random.randn()\n",
    "        self._alpha = 1\n",
    "        self._drive = 0\n",
    "        \n",
    "        #Array to save the activations of the previous layer (In case of the first hidden layer the inputs of the MLP). \n",
    "        self._activations_previous_layer = np.empty(input_units)\n",
    " \n",
    "\n",
    "    # Description: This function conducts one forward step of a perceptron. \n",
    "    #              Therefore it calculates the output with the activation function depending on the input. \n",
    "    #              Moreover the input is saved in the object variable _activations_previous_layer, cause its needed for the backpropagation later on.\n",
    "    #              @init variables: inputs\n",
    "    def forward_step(self, inputs):\n",
    "        self._activations_previous_layer = inputs\n",
    "        self._drive = np.dot(inputs, self._weights) + self._bias \n",
    "        activation = sigmoid(self._drive)\n",
    "        return activation             \n",
    " \n",
    "\n",
    "    # Description: This function updates the weights and bias of the perceptron, using general functions from courseware/homework. \n",
    "    #              @init variables: delta\n",
    "    def update(self, delta):\n",
    "        self._weights -= self._alpha * delta * self._activations_previous_layer\n",
    "        self._bias -= self._alpha * delta * 1\n",
    " \n",
    "\n",
    "    def _get_drive(self):\n",
    "        return self._drive\n",
    "    \n",
    "    \n",
    "    def _get_weights(self):\n",
    "        return self._weights"
   ]
  },
  {
   "cell_type": "markdown",
   "metadata": {},
   "source": [
    "# 4: Multi-Layer Perceptron class"
   ]
  },
  {
   "cell_type": "code",
   "execution_count": 23,
   "metadata": {},
   "outputs": [],
   "source": [
    "# Task 4: Multi-Layer Perceptron\n",
    "# Description: The class MLP describes a multi-layer perceptron with one hidden layer and one output perceptron.\n",
    "#              When creating a MLP, the number of perceptrons in the hidden layer - the size - and the number of inputs need to be defined.\n",
    "#              @init variables: input_units, size_hidden_layer\n",
    "#              @class variables: -\n",
    "#              @object variables: _size_hidden_layer, _hidden_layer[]\n",
    "#              @functions: forward_step, backprop_step\n",
    "\n",
    "class MLP:\n",
    "    \n",
    "    def __init__(self, input_units, size_hidden_layer):\n",
    "        self._size_hidden_layer = size_hidden_layer\n",
    "        self._hidden_layer = [None for i in range(size_hidden_layer)]\n",
    "        for i in range(self._size_hidden_layer):\n",
    "            self._hidden_layer[i] = Perceptron(input_units)\n",
    "        \n",
    "        self._output_layer = Perceptron(size_hidden_layer)\n",
    "\n",
    "        \n",
    "    # Description: This function conducts one forward step of a multi-layer perceptron. \n",
    "    #              Therefore it computes first the activation of the hidden layer and sencondly the overall output from the output layer.\n",
    "    #              @init variables: inputs\n",
    "    def forward_step(self, inputs): \n",
    "        activations_hidden_layer = np.empty(self._size_hidden_layer)\n",
    "        for i in range(self._size_hidden_layer):\n",
    "            activations_hidden_layer[i] = self._hidden_layer[i].forward_step(inputs)\n",
    "            \n",
    "        output = self._output_layer.forward_step(activations_hidden_layer)\n",
    "        \n",
    "        return output\n",
    "\n",
    "    \n",
    "    # Description: This function conducts the backpropagation of the whole multi-layer perceptron. \n",
    "    #              Therefore it computes first the delta of the output layer, secondly the delta of the perceptrons from the hidden layer.\n",
    "    #              Moreover, it calculates the delta and the loss function and then updates all perceptrons from hidden and output layer.\n",
    "    #              @init variables: derivative_loss\n",
    "    def backprop_step(self, derivative_loss):\n",
    "        delta_output_layer = derivative_loss * sigmoidprime(self._output_layer._get_drive())\n",
    "        \n",
    "        # Calculates the first part of the loss function, givin in the homework task, hint 9.\n",
    "        weighted_delta_output_layer = delta_output_layer * self._output_layer._get_weights()\n",
    "        \n",
    "        deltas_hidden_layer = np.empty(self._size_hidden_layer)\n",
    "        for i in range(self._size_hidden_layer):             \n",
    "            deltas_hidden_layer[i] = weighted_delta_output_layer[i] * sigmoidprime(self._hidden_layer[i]._get_drive())\n",
    "        \n",
    "        self._output_layer.update(delta_output_layer) \n",
    "        \n",
    "        # Update of hidden layer could also be possible in the for-loop before, \n",
    "        # but to better represent the correct order of backpropagation there is another for-loop here.\n",
    "        for i in range(self._size_hidden_layer):\n",
    "            self._hidden_layer[i].update(deltas_hidden_layer[i])\n",
    "        "
   ]
  },
  {
   "cell_type": "markdown",
   "metadata": {},
   "source": [
    "# 5: Training"
   ]
  },
  {
   "cell_type": "code",
   "execution_count": 24,
   "metadata": {},
   "outputs": [],
   "source": [
    "# Task 5: Training\n",
    "# Description: The following steps create a multi-layer perceptron with a hidden layer consisting of 4 perceptrons.\n",
    "#              Moreover, the target and the input is defined, regarding the definitions from Task 2 - see above.\n",
    "#              Secondly, a training loop, trains the multi-layer perceptron to a target and calculates the accuracy of the\n",
    "#              multi-layer perceptron. Therefore, it performs the backpropagation of the multi-layer perceptron and compares\n",
    "#              the output of the multi-layer perceptron with the target using the error term givin in Task 5.\n",
    "\n",
    "target = target_xor    \n",
    "\n",
    "size_hidden_layer = 4\n",
    "logical_gate = MLP(2, size_hidden_layer)\n",
    "\n",
    "amount_of_training_epochs = 1000\n",
    "\n",
    "steps = np.empty(amount_of_training_epochs)\n",
    "average_accuracy_each_epoch = np.empty(amount_of_training_epochs)\n",
    "average_loss_each_epoch = np.empty(amount_of_training_epochs)\n",
    "\n",
    "# Training Loop:\n",
    "for epoch in range(amount_of_training_epochs):\n",
    "    steps[epoch] = epoch\n",
    "    correct_output_current_epoch = 0\n",
    "    loss_current_epoch = 0\n",
    "    \n",
    "    for i in range(len(inputs)):\n",
    "        output = logical_gate.forward_step(inputs[i])\n",
    "    \n",
    "        # Compare output and target\n",
    "        if (output <= 0.5 and target[i] == 0) or (output > 0.5 and target[i] == 1):\n",
    "            correct_output_current_epoch += 1\n",
    "    \n",
    "        # Calculate loss and do backpropagation\n",
    "        loss_current_epoch += np.square(target[i] - output)    \n",
    "        derivative_loss = -2 * (target[i] - output)\n",
    "    \n",
    "        logical_gate.backprop_step(derivative_loss)\n",
    "    \n",
    "    #Update accuracy and loss arrays.\n",
    "    average_accuracy_each_epoch[epoch] = correct_output_current_epoch / len(inputs)\n",
    "    average_loss_each_epoch[epoch] = loss_current_epoch / len(inputs) "
   ]
  },
  {
   "cell_type": "markdown",
   "metadata": {},
   "source": [
    "# 6: Visualization"
   ]
  },
  {
   "cell_type": "code",
   "execution_count": 25,
   "metadata": {},
   "outputs": [
    {
     "data": {
      "image/png": "[encoded data removed]",
      "text/plain": [
       "<Figure size 432x288 with 1 Axes>"
      ]
     },
     "metadata": {
      "needs_background": "light"
     },
     "output_type": "display_data"
    },
    {
     "data": {
      "image/png": "[encoded data removed]",
      "text/plain": [
       "<Figure size 432x288 with 1 Axes>"
      ]
     },
     "metadata": {
      "needs_background": "light"
     },
     "output_type": "display_data"
    }
   ],
   "source": [
    "# Task 6: Visualization\n",
    "# Description: Figure 1 shows the average of the loss over all backpropagation steps.\n",
    "#              Figure 2 shows the accuracy of the multi-layer perceptron over all backpropagation steps.\n",
    "\n",
    "import matplotlib.pyplot as plt\n",
    "\n",
    "plt.figure()\n",
    "plt.plot(steps, average_loss_each_epoch)\n",
    "plt.xlabel(\"Training Steps\")\n",
    "plt.ylabel(\"Loss\")\n",
    "plt.ylim([-0.1, 1.2])\n",
    "plt.show()\n",
    "\n",
    "plt.figure()\n",
    "plt.plot(steps, average_accuracy_each_epoch)\n",
    "plt.xlabel(\"Training Steps\")\n",
    "plt.ylabel(\"Accuracy\")\n",
    "plt.ylim([-0.1, 1.2])\n",
    "plt.show()"
   ]
  }
 ],
 "metadata": {
  "kernelspec": {
   "display_name": "Python 3",
   "language": "python",
   "name": "python3"
  },
  "language_info": {
   "codemirror_mode": {
    "name": "ipython",
    "version": 3
   },
   "file_extension": ".py",
   "mimetype": "text/x-python",
   "name": "python",
   "nbconvert_exporter": "python",
   "pygments_lexer": "ipython3",
   "version": "3.7.9"
  }
 },
 "nbformat": 4,
 "nbformat_minor": 4
}
